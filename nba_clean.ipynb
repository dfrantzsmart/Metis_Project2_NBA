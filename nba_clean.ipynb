{
 "cells": [
  {
   "cell_type": "markdown",
   "metadata": {},
   "source": [
    "# Predicting NBA Daily Fantasy Scores"
   ]
  },
  {
   "cell_type": "code",
   "execution_count": 1,
   "metadata": {},
   "outputs": [],
   "source": [
    "import requests\n",
    "from bs4 import BeautifulSoup\n",
    "import numpy as np\n",
    "import pandas as pd\n",
    "import time\n",
    "import pickle\n",
    "import nba"
   ]
  },
  {
   "cell_type": "markdown",
   "metadata": {},
   "source": [
    "First I will scrape every game log for every player from the 2017, 2018, and 2019 seasons.  This uses the nba.py script.  You will notice that these parts are commented out below to avoid re-scraping each time I work on this file.  Instead each year's stats have been loaded into a pickle file that can be loaded on command."
   ]
  },
  {
   "cell_type": "code",
   "execution_count": 2,
   "metadata": {},
   "outputs": [],
   "source": [
    "# links_2019 = nba.get_links(2019)"
   ]
  },
  {
   "cell_type": "code",
   "execution_count": 3,
   "metadata": {},
   "outputs": [],
   "source": [
    "# raw_2019 = nba.get_all_stats(links_2019)"
   ]
  },
  {
   "cell_type": "code",
   "execution_count": 4,
   "metadata": {},
   "outputs": [],
   "source": [
    "# with open('nba_2019.pickle','wb') as to_write:\n",
    "#     pickle.dump(raw_2019,to_write)"
   ]
  },
  {
   "cell_type": "code",
   "execution_count": 5,
   "metadata": {},
   "outputs": [],
   "source": [
    "with open('nba_2019.pickle','rb') as read_file:\n",
    "    stats = pickle.load(read_file)"
   ]
  },
  {
   "cell_type": "code",
   "execution_count": 6,
   "metadata": {},
   "outputs": [],
   "source": [
    "stats_2019 = pd.DataFrame(stats)"
   ]
  },
  {
   "cell_type": "code",
   "execution_count": 7,
   "metadata": {},
   "outputs": [],
   "source": [
    "# links_2018 = nba.get_links(2018)\n",
    "# raw_2018 = nba.get_all_stats(links_2018)"
   ]
  },
  {
   "cell_type": "code",
   "execution_count": 8,
   "metadata": {},
   "outputs": [],
   "source": [
    "#with open('nba_2018.pickle','wb') as to_write:\n",
    " #   pickle.dump(raw_2018,to_write)"
   ]
  },
  {
   "cell_type": "code",
   "execution_count": 9,
   "metadata": {},
   "outputs": [],
   "source": [
    "with open('nba_2018.pickle','rb') as read_file:\n",
    "    raw_2018 = pickle.load(read_file)\n",
    "\n",
    "stats_2018 = pd.DataFrame(raw_2018)"
   ]
  },
  {
   "cell_type": "code",
   "execution_count": 10,
   "metadata": {},
   "outputs": [],
   "source": [
    "#links_2017 = nba.get_links(2017)\n",
    "#raw_2017 = nba.get_all_stats(links_2017)"
   ]
  },
  {
   "cell_type": "code",
   "execution_count": 11,
   "metadata": {},
   "outputs": [],
   "source": [
    "#with open('nba_2017.pickle','wb') as to_write:\n",
    " #   pickle.dump(raw_2017,to_write)"
   ]
  },
  {
   "cell_type": "code",
   "execution_count": 12,
   "metadata": {},
   "outputs": [],
   "source": [
    "with open('nba_2017.pickle','rb') as read_file:\n",
    "    raw_2017 = pickle.load(read_file)\n",
    "\n",
    "stats_2017 = pd.DataFrame(raw_2017)"
   ]
  },
  {
   "cell_type": "code",
   "execution_count": 13,
   "metadata": {
    "tags": []
   },
   "outputs": [
    {
     "name": "stdout",
     "output_type": "stream",
     "text": [
      "<class 'pandas.core.frame.DataFrame'>\n",
      "Int64Index: 121058 entries, 0 to 41281\n",
      "Data columns (total 31 columns):\n",
      " #   Column      Non-Null Count   Dtype \n",
      "---  ------      --------------   ----- \n",
      " 0   Player      121058 non-null  object\n",
      " 1   Rank        121058 non-null  object\n",
      " 2   Game        115569 non-null  object\n",
      " 3   Date        115569 non-null  object\n",
      " 4   Age         115569 non-null  object\n",
      " 5   Team        115569 non-null  object\n",
      " 6   Away        115569 non-null  object\n",
      " 7   Opp         115569 non-null  object\n",
      " 8   Result      115569 non-null  object\n",
      " 9   Started     115569 non-null  object\n",
      " 10  min_played  78345 non-null   object\n",
      " 11  fgm         78345 non-null   object\n",
      " 12  fga         78345 non-null   object\n",
      " 13  fgp         78345 non-null   object\n",
      " 14  3pm         78345 non-null   object\n",
      " 15  3pa         78345 non-null   object\n",
      " 16  3pp         78345 non-null   object\n",
      " 17  ftm         78345 non-null   object\n",
      " 18  fta         78345 non-null   object\n",
      " 19  ftp         78345 non-null   object\n",
      " 20  orb         78345 non-null   object\n",
      " 21  drb         78345 non-null   object\n",
      " 22  trb         78345 non-null   object\n",
      " 23  ast         78345 non-null   object\n",
      " 24  stl         78345 non-null   object\n",
      " 25  blk         78345 non-null   object\n",
      " 26  tov         78345 non-null   object\n",
      " 27  pf          78345 non-null   object\n",
      " 28  pts         78345 non-null   object\n",
      " 29  GmSc        78345 non-null   object\n",
      " 30  plus_minus  78345 non-null   object\n",
      "dtypes: object(31)\n",
      "memory usage: 29.6+ MB\n"
     ]
    }
   ],
   "source": [
    "nba_stats = pd.concat([stats_2017,stats_2018,stats_2019])\n",
    "nba_stats.info()"
   ]
  },
  {
   "cell_type": "markdown",
   "metadata": {},
   "source": [
    "Find out what's going on with the null values."
   ]
  },
  {
   "cell_type": "code",
   "execution_count": 14,
   "metadata": {},
   "outputs": [
    {
     "data": {
      "text/html": [
       "<div>\n",
       "<style scoped>\n",
       "    .dataframe tbody tr th:only-of-type {\n",
       "        vertical-align: middle;\n",
       "    }\n",
       "\n",
       "    .dataframe tbody tr th {\n",
       "        vertical-align: top;\n",
       "    }\n",
       "\n",
       "    .dataframe thead th {\n",
       "        text-align: right;\n",
       "    }\n",
       "</style>\n",
       "<table border=\"1\" class=\"dataframe\">\n",
       "  <thead>\n",
       "    <tr style=\"text-align: right;\">\n",
       "      <th></th>\n",
       "      <th>Player</th>\n",
       "      <th>Rank</th>\n",
       "      <th>Game</th>\n",
       "      <th>Date</th>\n",
       "      <th>Age</th>\n",
       "      <th>Team</th>\n",
       "      <th>Away</th>\n",
       "      <th>Opp</th>\n",
       "      <th>Result</th>\n",
       "      <th>Started</th>\n",
       "      <th>...</th>\n",
       "      <th>drb</th>\n",
       "      <th>trb</th>\n",
       "      <th>ast</th>\n",
       "      <th>stl</th>\n",
       "      <th>blk</th>\n",
       "      <th>tov</th>\n",
       "      <th>pf</th>\n",
       "      <th>pts</th>\n",
       "      <th>GmSc</th>\n",
       "      <th>plus_minus</th>\n",
       "    </tr>\n",
       "  </thead>\n",
       "  <tbody>\n",
       "    <tr>\n",
       "      <th>20</th>\n",
       "      <td>Sean Kilpatrick</td>\n",
       "      <td>Rk</td>\n",
       "      <td>NaN</td>\n",
       "      <td>NaN</td>\n",
       "      <td>NaN</td>\n",
       "      <td>NaN</td>\n",
       "      <td>NaN</td>\n",
       "      <td>NaN</td>\n",
       "      <td>NaN</td>\n",
       "      <td>NaN</td>\n",
       "      <td>...</td>\n",
       "      <td>NaN</td>\n",
       "      <td>NaN</td>\n",
       "      <td>NaN</td>\n",
       "      <td>NaN</td>\n",
       "      <td>NaN</td>\n",
       "      <td>NaN</td>\n",
       "      <td>NaN</td>\n",
       "      <td>NaN</td>\n",
       "      <td>NaN</td>\n",
       "      <td>NaN</td>\n",
       "    </tr>\n",
       "    <tr>\n",
       "      <th>41</th>\n",
       "      <td>Sean Kilpatrick</td>\n",
       "      <td>Rk</td>\n",
       "      <td>NaN</td>\n",
       "      <td>NaN</td>\n",
       "      <td>NaN</td>\n",
       "      <td>NaN</td>\n",
       "      <td>NaN</td>\n",
       "      <td>NaN</td>\n",
       "      <td>NaN</td>\n",
       "      <td>NaN</td>\n",
       "      <td>...</td>\n",
       "      <td>NaN</td>\n",
       "      <td>NaN</td>\n",
       "      <td>NaN</td>\n",
       "      <td>NaN</td>\n",
       "      <td>NaN</td>\n",
       "      <td>NaN</td>\n",
       "      <td>NaN</td>\n",
       "      <td>NaN</td>\n",
       "      <td>NaN</td>\n",
       "      <td>NaN</td>\n",
       "    </tr>\n",
       "    <tr>\n",
       "      <th>43</th>\n",
       "      <td>Sean Kilpatrick</td>\n",
       "      <td>42</td>\n",
       "      <td></td>\n",
       "      <td>2017-01-20</td>\n",
       "      <td>27-014</td>\n",
       "      <td>BRK</td>\n",
       "      <td>@</td>\n",
       "      <td>NOP</td>\n",
       "      <td>W (+29)</td>\n",
       "      <td>Did Not Play</td>\n",
       "      <td>...</td>\n",
       "      <td>NaN</td>\n",
       "      <td>NaN</td>\n",
       "      <td>NaN</td>\n",
       "      <td>NaN</td>\n",
       "      <td>NaN</td>\n",
       "      <td>NaN</td>\n",
       "      <td>NaN</td>\n",
       "      <td>NaN</td>\n",
       "      <td>NaN</td>\n",
       "      <td>NaN</td>\n",
       "    </tr>\n",
       "    <tr>\n",
       "      <th>62</th>\n",
       "      <td>Sean Kilpatrick</td>\n",
       "      <td>Rk</td>\n",
       "      <td>NaN</td>\n",
       "      <td>NaN</td>\n",
       "      <td>NaN</td>\n",
       "      <td>NaN</td>\n",
       "      <td>NaN</td>\n",
       "      <td>NaN</td>\n",
       "      <td>NaN</td>\n",
       "      <td>NaN</td>\n",
       "      <td>...</td>\n",
       "      <td>NaN</td>\n",
       "      <td>NaN</td>\n",
       "      <td>NaN</td>\n",
       "      <td>NaN</td>\n",
       "      <td>NaN</td>\n",
       "      <td>NaN</td>\n",
       "      <td>NaN</td>\n",
       "      <td>NaN</td>\n",
       "      <td>NaN</td>\n",
       "      <td>NaN</td>\n",
       "    </tr>\n",
       "    <tr>\n",
       "      <th>69</th>\n",
       "      <td>Sean Kilpatrick</td>\n",
       "      <td>67</td>\n",
       "      <td></td>\n",
       "      <td>2017-03-16</td>\n",
       "      <td>27-069</td>\n",
       "      <td>BRK</td>\n",
       "      <td>@</td>\n",
       "      <td>NYK</td>\n",
       "      <td>W (+11)</td>\n",
       "      <td>Inactive</td>\n",
       "      <td>...</td>\n",
       "      <td>NaN</td>\n",
       "      <td>NaN</td>\n",
       "      <td>NaN</td>\n",
       "      <td>NaN</td>\n",
       "      <td>NaN</td>\n",
       "      <td>NaN</td>\n",
       "      <td>NaN</td>\n",
       "      <td>NaN</td>\n",
       "      <td>NaN</td>\n",
       "      <td>NaN</td>\n",
       "    </tr>\n",
       "    <tr>\n",
       "      <th>...</th>\n",
       "      <td>...</td>\n",
       "      <td>...</td>\n",
       "      <td>...</td>\n",
       "      <td>...</td>\n",
       "      <td>...</td>\n",
       "      <td>...</td>\n",
       "      <td>...</td>\n",
       "      <td>...</td>\n",
       "      <td>...</td>\n",
       "      <td>...</td>\n",
       "      <td>...</td>\n",
       "      <td>...</td>\n",
       "      <td>...</td>\n",
       "      <td>...</td>\n",
       "      <td>...</td>\n",
       "      <td>...</td>\n",
       "      <td>...</td>\n",
       "      <td>...</td>\n",
       "      <td>...</td>\n",
       "      <td>...</td>\n",
       "      <td>...</td>\n",
       "    </tr>\n",
       "    <tr>\n",
       "      <th>41277</th>\n",
       "      <td>Tony Snell</td>\n",
       "      <td>79</td>\n",
       "      <td></td>\n",
       "      <td>2019-04-04</td>\n",
       "      <td>27-145</td>\n",
       "      <td>MIL</td>\n",
       "      <td>@</td>\n",
       "      <td>PHI</td>\n",
       "      <td>W (+6)</td>\n",
       "      <td>Did Not Play</td>\n",
       "      <td>...</td>\n",
       "      <td>NaN</td>\n",
       "      <td>NaN</td>\n",
       "      <td>NaN</td>\n",
       "      <td>NaN</td>\n",
       "      <td>NaN</td>\n",
       "      <td>NaN</td>\n",
       "      <td>NaN</td>\n",
       "      <td>NaN</td>\n",
       "      <td>NaN</td>\n",
       "      <td>NaN</td>\n",
       "    </tr>\n",
       "    <tr>\n",
       "      <th>41278</th>\n",
       "      <td>Tony Snell</td>\n",
       "      <td>80</td>\n",
       "      <td></td>\n",
       "      <td>2019-04-06</td>\n",
       "      <td>27-147</td>\n",
       "      <td>MIL</td>\n",
       "      <td></td>\n",
       "      <td>BRK</td>\n",
       "      <td>L (-5)</td>\n",
       "      <td>Did Not Play</td>\n",
       "      <td>...</td>\n",
       "      <td>NaN</td>\n",
       "      <td>NaN</td>\n",
       "      <td>NaN</td>\n",
       "      <td>NaN</td>\n",
       "      <td>NaN</td>\n",
       "      <td>NaN</td>\n",
       "      <td>NaN</td>\n",
       "      <td>NaN</td>\n",
       "      <td>NaN</td>\n",
       "      <td>NaN</td>\n",
       "    </tr>\n",
       "    <tr>\n",
       "      <th>41279</th>\n",
       "      <td>Tony Snell</td>\n",
       "      <td>Rk</td>\n",
       "      <td>NaN</td>\n",
       "      <td>NaN</td>\n",
       "      <td>NaN</td>\n",
       "      <td>NaN</td>\n",
       "      <td>NaN</td>\n",
       "      <td>NaN</td>\n",
       "      <td>NaN</td>\n",
       "      <td>NaN</td>\n",
       "      <td>...</td>\n",
       "      <td>NaN</td>\n",
       "      <td>NaN</td>\n",
       "      <td>NaN</td>\n",
       "      <td>NaN</td>\n",
       "      <td>NaN</td>\n",
       "      <td>NaN</td>\n",
       "      <td>NaN</td>\n",
       "      <td>NaN</td>\n",
       "      <td>NaN</td>\n",
       "      <td>NaN</td>\n",
       "    </tr>\n",
       "    <tr>\n",
       "      <th>41280</th>\n",
       "      <td>Tony Snell</td>\n",
       "      <td>81</td>\n",
       "      <td></td>\n",
       "      <td>2019-04-07</td>\n",
       "      <td>27-148</td>\n",
       "      <td>MIL</td>\n",
       "      <td></td>\n",
       "      <td>ATL</td>\n",
       "      <td>W (+8)</td>\n",
       "      <td>Did Not Play</td>\n",
       "      <td>...</td>\n",
       "      <td>NaN</td>\n",
       "      <td>NaN</td>\n",
       "      <td>NaN</td>\n",
       "      <td>NaN</td>\n",
       "      <td>NaN</td>\n",
       "      <td>NaN</td>\n",
       "      <td>NaN</td>\n",
       "      <td>NaN</td>\n",
       "      <td>NaN</td>\n",
       "      <td>NaN</td>\n",
       "    </tr>\n",
       "    <tr>\n",
       "      <th>41281</th>\n",
       "      <td>Tony Snell</td>\n",
       "      <td>82</td>\n",
       "      <td></td>\n",
       "      <td>2019-04-10</td>\n",
       "      <td>27-151</td>\n",
       "      <td>MIL</td>\n",
       "      <td></td>\n",
       "      <td>OKC</td>\n",
       "      <td>L (-11)</td>\n",
       "      <td>Did Not Play</td>\n",
       "      <td>...</td>\n",
       "      <td>NaN</td>\n",
       "      <td>NaN</td>\n",
       "      <td>NaN</td>\n",
       "      <td>NaN</td>\n",
       "      <td>NaN</td>\n",
       "      <td>NaN</td>\n",
       "      <td>NaN</td>\n",
       "      <td>NaN</td>\n",
       "      <td>NaN</td>\n",
       "      <td>NaN</td>\n",
       "    </tr>\n",
       "  </tbody>\n",
       "</table>\n",
       "<p>42713 rows × 31 columns</p>\n",
       "</div>"
      ],
      "text/plain": [
       "                Player Rank Game        Date     Age Team Away  Opp   Result  \\\n",
       "20     Sean Kilpatrick   Rk  NaN         NaN     NaN  NaN  NaN  NaN      NaN   \n",
       "41     Sean Kilpatrick   Rk  NaN         NaN     NaN  NaN  NaN  NaN      NaN   \n",
       "43     Sean Kilpatrick   42       2017-01-20  27-014  BRK    @  NOP  W (+29)   \n",
       "62     Sean Kilpatrick   Rk  NaN         NaN     NaN  NaN  NaN  NaN      NaN   \n",
       "69     Sean Kilpatrick   67       2017-03-16  27-069  BRK    @  NYK  W (+11)   \n",
       "...                ...  ...  ...         ...     ...  ...  ...  ...      ...   \n",
       "41277       Tony Snell   79       2019-04-04  27-145  MIL    @  PHI   W (+6)   \n",
       "41278       Tony Snell   80       2019-04-06  27-147  MIL       BRK   L (-5)   \n",
       "41279       Tony Snell   Rk  NaN         NaN     NaN  NaN  NaN  NaN      NaN   \n",
       "41280       Tony Snell   81       2019-04-07  27-148  MIL       ATL   W (+8)   \n",
       "41281       Tony Snell   82       2019-04-10  27-151  MIL       OKC  L (-11)   \n",
       "\n",
       "            Started  ...  drb  trb  ast  stl  blk  tov   pf  pts GmSc  \\\n",
       "20              NaN  ...  NaN  NaN  NaN  NaN  NaN  NaN  NaN  NaN  NaN   \n",
       "41              NaN  ...  NaN  NaN  NaN  NaN  NaN  NaN  NaN  NaN  NaN   \n",
       "43     Did Not Play  ...  NaN  NaN  NaN  NaN  NaN  NaN  NaN  NaN  NaN   \n",
       "62              NaN  ...  NaN  NaN  NaN  NaN  NaN  NaN  NaN  NaN  NaN   \n",
       "69         Inactive  ...  NaN  NaN  NaN  NaN  NaN  NaN  NaN  NaN  NaN   \n",
       "...             ...  ...  ...  ...  ...  ...  ...  ...  ...  ...  ...   \n",
       "41277  Did Not Play  ...  NaN  NaN  NaN  NaN  NaN  NaN  NaN  NaN  NaN   \n",
       "41278  Did Not Play  ...  NaN  NaN  NaN  NaN  NaN  NaN  NaN  NaN  NaN   \n",
       "41279           NaN  ...  NaN  NaN  NaN  NaN  NaN  NaN  NaN  NaN  NaN   \n",
       "41280  Did Not Play  ...  NaN  NaN  NaN  NaN  NaN  NaN  NaN  NaN  NaN   \n",
       "41281  Did Not Play  ...  NaN  NaN  NaN  NaN  NaN  NaN  NaN  NaN  NaN   \n",
       "\n",
       "      plus_minus  \n",
       "20           NaN  \n",
       "41           NaN  \n",
       "43           NaN  \n",
       "62           NaN  \n",
       "69           NaN  \n",
       "...          ...  \n",
       "41277        NaN  \n",
       "41278        NaN  \n",
       "41279        NaN  \n",
       "41280        NaN  \n",
       "41281        NaN  \n",
       "\n",
       "[42713 rows x 31 columns]"
      ]
     },
     "execution_count": 14,
     "metadata": {},
     "output_type": "execute_result"
    }
   ],
   "source": [
    "nba_stats[nba_stats.pts.isnull()]"
   ]
  },
  {
   "cell_type": "markdown",
   "metadata": {},
   "source": [
    "So it seems like all of the null values in the actual stats columns are a result of that player not playing in that given game.  Because there are zeroes, I'll go ahead and remove rows where any actual stat is null."
   ]
  },
  {
   "cell_type": "code",
   "execution_count": 15,
   "metadata": {},
   "outputs": [],
   "source": [
    "nba_stats.dropna(subset=['pts'],inplace=True)"
   ]
  },
  {
   "cell_type": "code",
   "execution_count": 16,
   "metadata": {},
   "outputs": [
    {
     "name": "stdout",
     "output_type": "stream",
     "text": [
      "<class 'pandas.core.frame.DataFrame'>\n",
      "Int64Index: 78345 entries, 0 to 41272\n",
      "Data columns (total 31 columns):\n",
      " #   Column      Non-Null Count  Dtype \n",
      "---  ------      --------------  ----- \n",
      " 0   Player      78345 non-null  object\n",
      " 1   Rank        78345 non-null  object\n",
      " 2   Game        78345 non-null  object\n",
      " 3   Date        78345 non-null  object\n",
      " 4   Age         78345 non-null  object\n",
      " 5   Team        78345 non-null  object\n",
      " 6   Away        78345 non-null  object\n",
      " 7   Opp         78345 non-null  object\n",
      " 8   Result      78345 non-null  object\n",
      " 9   Started     78345 non-null  object\n",
      " 10  min_played  78345 non-null  object\n",
      " 11  fgm         78345 non-null  object\n",
      " 12  fga         78345 non-null  object\n",
      " 13  fgp         78345 non-null  object\n",
      " 14  3pm         78345 non-null  object\n",
      " 15  3pa         78345 non-null  object\n",
      " 16  3pp         78345 non-null  object\n",
      " 17  ftm         78345 non-null  object\n",
      " 18  fta         78345 non-null  object\n",
      " 19  ftp         78345 non-null  object\n",
      " 20  orb         78345 non-null  object\n",
      " 21  drb         78345 non-null  object\n",
      " 22  trb         78345 non-null  object\n",
      " 23  ast         78345 non-null  object\n",
      " 24  stl         78345 non-null  object\n",
      " 25  blk         78345 non-null  object\n",
      " 26  tov         78345 non-null  object\n",
      " 27  pf          78345 non-null  object\n",
      " 28  pts         78345 non-null  object\n",
      " 29  GmSc        78345 non-null  object\n",
      " 30  plus_minus  78345 non-null  object\n",
      "dtypes: object(31)\n",
      "memory usage: 19.1+ MB\n"
     ]
    }
   ],
   "source": [
    "nba_stats.info()"
   ]
  },
  {
   "cell_type": "markdown",
   "metadata": {},
   "source": [
    "Now we are golden.  All rows contain valid values for each column.  But everything is a string.  We need to clean this data into the approriate data types."
   ]
  },
  {
   "cell_type": "code",
   "execution_count": 17,
   "metadata": {},
   "outputs": [
    {
     "name": "stdout",
     "output_type": "stream",
     "text": [
      "Successfully converted:  Rank\n",
      "Successfully converted:  Game\n",
      "Successfully converted:  Started\n",
      "Successfully converted:  fgm\n",
      "Successfully converted:  fga\n",
      "Successfully converted:  3pm\n",
      "Successfully converted:  3pa\n",
      "Successfully converted:  ftm\n",
      "Successfully converted:  fta\n",
      "Successfully converted:  orb\n",
      "Successfully converted:  drb\n",
      "Successfully converted:  trb\n",
      "Successfully converted:  ast\n",
      "Successfully converted:  stl\n",
      "Successfully converted:  blk\n",
      "Successfully converted:  tov\n",
      "Successfully converted:  pf\n",
      "Successfully converted:  pts\n",
      "Failed to convert: fgp\n",
      "Failed to convert: 3pp\n",
      "Failed to convert: ftp\n",
      "Successfully converted: GmSc\n"
     ]
    }
   ],
   "source": [
    "# convert data to appropriate data types rather than all strings\n",
    "\n",
    "ints = ['Rank','Game','Started','fgm','fga','3pm','3pa','ftm','fta','orb','drb','trb','ast','stl','blk','tov','pf','pts']\n",
    "\n",
    "nba_stats\n",
    "for col in ints:\n",
    "    try:\n",
    "        nba_stats[col] = nba_stats[col].astype(int)\n",
    "        print('Successfully converted: ',col)\n",
    "    except:\n",
    "        print('failed to convert:',col)\n",
    "\n",
    "floats = ['fgp','3pp','ftp','GmSc']\n",
    "\n",
    "for col in floats:\n",
    "    try:\n",
    "        nba_stats[col] = nba_stats[col].astype(float)\n",
    "        print('Successfully converted:',col)\n",
    "    except:\n",
    "        print('Failed to convert:',col)\n",
    "\n",
    "nba_stats['Date'] = pd.to_datetime(nba_stats.Date)\n",
    "\n",
    "nba_stats['Away'] = nba_stats.Away.map({'@':1,' ':0,np.nan:0})"
   ]
  },
  {
   "cell_type": "code",
   "execution_count": 18,
   "metadata": {},
   "outputs": [
    {
     "data": {
      "text/plain": [
       "Player                object\n",
       "Rank                   int64\n",
       "Game                   int64\n",
       "Date          datetime64[ns]\n",
       "Age                   object\n",
       "Team                  object\n",
       "Away                 float64\n",
       "Opp                   object\n",
       "Result                object\n",
       "Started                int64\n",
       "min_played            object\n",
       "fgm                    int64\n",
       "fga                    int64\n",
       "fgp                   object\n",
       "3pm                    int64\n",
       "3pa                    int64\n",
       "3pp                   object\n",
       "ftm                    int64\n",
       "fta                    int64\n",
       "ftp                   object\n",
       "orb                    int64\n",
       "drb                    int64\n",
       "trb                    int64\n",
       "ast                    int64\n",
       "stl                    int64\n",
       "blk                    int64\n",
       "tov                    int64\n",
       "pf                     int64\n",
       "pts                    int64\n",
       "GmSc                 float64\n",
       "plus_minus            object\n",
       "dtype: object"
      ]
     },
     "execution_count": 18,
     "metadata": {},
     "output_type": "execute_result"
    }
   ],
   "source": [
    "nba_stats.dtypes"
   ]
  },
  {
   "cell_type": "code",
   "execution_count": 19,
   "metadata": {},
   "outputs": [
    {
     "data": {
      "text/html": [
       "<div>\n",
       "<style scoped>\n",
       "    .dataframe tbody tr th:only-of-type {\n",
       "        vertical-align: middle;\n",
       "    }\n",
       "\n",
       "    .dataframe tbody tr th {\n",
       "        vertical-align: top;\n",
       "    }\n",
       "\n",
       "    .dataframe thead th {\n",
       "        text-align: right;\n",
       "    }\n",
       "</style>\n",
       "<table border=\"1\" class=\"dataframe\">\n",
       "  <thead>\n",
       "    <tr style=\"text-align: right;\">\n",
       "      <th></th>\n",
       "      <th>fgp</th>\n",
       "      <th>fgm</th>\n",
       "      <th>fga</th>\n",
       "    </tr>\n",
       "  </thead>\n",
       "  <tbody>\n",
       "    <tr>\n",
       "      <th>87</th>\n",
       "      <td></td>\n",
       "      <td>0</td>\n",
       "      <td>0</td>\n",
       "    </tr>\n",
       "    <tr>\n",
       "      <th>89</th>\n",
       "      <td></td>\n",
       "      <td>0</td>\n",
       "      <td>0</td>\n",
       "    </tr>\n",
       "    <tr>\n",
       "      <th>97</th>\n",
       "      <td></td>\n",
       "      <td>0</td>\n",
       "      <td>0</td>\n",
       "    </tr>\n",
       "    <tr>\n",
       "      <th>105</th>\n",
       "      <td></td>\n",
       "      <td>0</td>\n",
       "      <td>0</td>\n",
       "    </tr>\n",
       "    <tr>\n",
       "      <th>108</th>\n",
       "      <td></td>\n",
       "      <td>0</td>\n",
       "      <td>0</td>\n",
       "    </tr>\n",
       "    <tr>\n",
       "      <th>...</th>\n",
       "      <td>...</td>\n",
       "      <td>...</td>\n",
       "      <td>...</td>\n",
       "    </tr>\n",
       "    <tr>\n",
       "      <th>40985</th>\n",
       "      <td></td>\n",
       "      <td>0</td>\n",
       "      <td>0</td>\n",
       "    </tr>\n",
       "    <tr>\n",
       "      <th>41022</th>\n",
       "      <td></td>\n",
       "      <td>0</td>\n",
       "      <td>0</td>\n",
       "    </tr>\n",
       "    <tr>\n",
       "      <th>41234</th>\n",
       "      <td></td>\n",
       "      <td>0</td>\n",
       "      <td>0</td>\n",
       "    </tr>\n",
       "    <tr>\n",
       "      <th>41241</th>\n",
       "      <td></td>\n",
       "      <td>0</td>\n",
       "      <td>0</td>\n",
       "    </tr>\n",
       "    <tr>\n",
       "      <th>41267</th>\n",
       "      <td></td>\n",
       "      <td>0</td>\n",
       "      <td>0</td>\n",
       "    </tr>\n",
       "  </tbody>\n",
       "</table>\n",
       "<p>3272 rows × 3 columns</p>\n",
       "</div>"
      ],
      "text/plain": [
       "      fgp  fgm  fga\n",
       "87           0    0\n",
       "89           0    0\n",
       "97           0    0\n",
       "105          0    0\n",
       "108          0    0\n",
       "...    ..  ...  ...\n",
       "40985        0    0\n",
       "41022        0    0\n",
       "41234        0    0\n",
       "41241        0    0\n",
       "41267        0    0\n",
       "\n",
       "[3272 rows x 3 columns]"
      ]
     },
     "execution_count": 19,
     "metadata": {},
     "output_type": "execute_result"
    }
   ],
   "source": [
    "nba_stats[nba_stats.fgp==''][['fgp','fgm','fga']]"
   ]
  },
  {
   "cell_type": "markdown",
   "metadata": {},
   "source": [
    "Looks like when a player did not take any shots in a game, field goal percentage returns an empty string."
   ]
  },
  {
   "cell_type": "code",
   "execution_count": 20,
   "metadata": {},
   "outputs": [],
   "source": [
    "for col in ['fgp','3pp','ftp']:\n",
    "    nba_stats.loc[nba_stats[col]=='',col] = 0\n",
    "    nba_stats[col] = nba_stats[col].astype(float)"
   ]
  },
  {
   "cell_type": "code",
   "execution_count": 21,
   "metadata": {},
   "outputs": [
    {
     "name": "stdout",
     "output_type": "stream",
     "text": [
      "<class 'pandas.core.frame.DataFrame'>\n",
      "Int64Index: 78345 entries, 0 to 41272\n",
      "Data columns (total 20 columns):\n",
      " #   Column      Non-Null Count  Dtype         \n",
      "---  ------      --------------  -----         \n",
      " 0   Player      78345 non-null  object        \n",
      " 1   Date        78345 non-null  datetime64[ns]\n",
      " 2   Team        78345 non-null  object        \n",
      " 3   Away        39118 non-null  float64       \n",
      " 4   Opp         78345 non-null  object        \n",
      " 5   min_played  78345 non-null  object        \n",
      " 6   fgm         78345 non-null  int64         \n",
      " 7   fga         78345 non-null  int64         \n",
      " 8   3pm         78345 non-null  int64         \n",
      " 9   3pa         78345 non-null  int64         \n",
      " 10  ftm         78345 non-null  int64         \n",
      " 11  fta         78345 non-null  int64         \n",
      " 12  orb         78345 non-null  int64         \n",
      " 13  drb         78345 non-null  int64         \n",
      " 14  trb         78345 non-null  int64         \n",
      " 15  ast         78345 non-null  int64         \n",
      " 16  stl         78345 non-null  int64         \n",
      " 17  blk         78345 non-null  int64         \n",
      " 18  tov         78345 non-null  int64         \n",
      " 19  pts         78345 non-null  int64         \n",
      "dtypes: datetime64[ns](1), float64(1), int64(14), object(4)\n",
      "memory usage: 12.6+ MB\n"
     ]
    }
   ],
   "source": [
    "# eliminate columns that are not factored into daily fantasy scoring\n",
    "# daily fantasy scoring is based on volume so percentages are irrelevant\n",
    "\n",
    "nba_stats.drop(['Rank','Game','Age','Result','Started','fgp','3pp','ftp','pf','GmSc','plus_minus'],axis=1,inplace=True)\n",
    "nba_stats.info()"
   ]
  },
  {
   "cell_type": "code",
   "execution_count": 22,
   "metadata": {},
   "outputs": [
    {
     "name": "stdout",
     "output_type": "stream",
     "text": [
      "<class 'pandas.core.frame.DataFrame'>\n",
      "Int64Index: 78345 entries, 0 to 41272\n",
      "Data columns (total 14 columns):\n",
      " #   Column  Non-Null Count  Dtype         \n",
      "---  ------  --------------  -----         \n",
      " 0   Player  78345 non-null  object        \n",
      " 1   Date    78345 non-null  datetime64[ns]\n",
      " 2   Team    78345 non-null  object        \n",
      " 3   Away    39118 non-null  float64       \n",
      " 4   Opp     78345 non-null  object        \n",
      " 5   fgm     78345 non-null  int64         \n",
      " 6   3pm     78345 non-null  int64         \n",
      " 7   ftm     78345 non-null  int64         \n",
      " 8   trb     78345 non-null  int64         \n",
      " 9   ast     78345 non-null  int64         \n",
      " 10  stl     78345 non-null  int64         \n",
      " 11  blk     78345 non-null  int64         \n",
      " 12  tov     78345 non-null  int64         \n",
      " 13  pts     78345 non-null  int64         \n",
      "dtypes: datetime64[ns](1), float64(1), int64(9), object(3)\n",
      "memory usage: 9.0+ MB\n"
     ]
    }
   ],
   "source": [
    "# attempts are also useless, as is the distinction between offensive and defensive rebounds\n",
    "# minutes played as well, since increased minutes will be reflected in increased stats if performance level continues\n",
    "\n",
    "nba_stats.drop(['3pa','fta','fga','orb','drb','min_played'],axis=1,inplace=True)\n",
    "nba_stats.info()"
   ]
  },
  {
   "cell_type": "code",
   "execution_count": 23,
   "metadata": {},
   "outputs": [],
   "source": [
    "nba_stats.Away = nba_stats.Away.map({1:1,np.nan:0})"
   ]
  },
  {
   "cell_type": "code",
   "execution_count": 24,
   "metadata": {},
   "outputs": [
    {
     "name": "stdout",
     "output_type": "stream",
     "text": [
      "<class 'pandas.core.frame.DataFrame'>\n",
      "Int64Index: 78345 entries, 0 to 41272\n",
      "Data columns (total 14 columns):\n",
      " #   Column  Non-Null Count  Dtype         \n",
      "---  ------  --------------  -----         \n",
      " 0   Player  78345 non-null  object        \n",
      " 1   Date    78345 non-null  datetime64[ns]\n",
      " 2   Team    78345 non-null  object        \n",
      " 3   Away    78345 non-null  int64         \n",
      " 4   Opp     78345 non-null  object        \n",
      " 5   fgm     78345 non-null  int64         \n",
      " 6   3pm     78345 non-null  int64         \n",
      " 7   ftm     78345 non-null  int64         \n",
      " 8   trb     78345 non-null  int64         \n",
      " 9   ast     78345 non-null  int64         \n",
      " 10  stl     78345 non-null  int64         \n",
      " 11  blk     78345 non-null  int64         \n",
      " 12  tov     78345 non-null  int64         \n",
      " 13  pts     78345 non-null  int64         \n",
      "dtypes: datetime64[ns](1), int64(10), object(3)\n",
      "memory usage: 9.0+ MB\n"
     ]
    }
   ],
   "source": [
    "nba_stats.info()"
   ]
  },
  {
   "cell_type": "markdown",
   "metadata": {},
   "source": [
    "Lastly we need to get minutes played into a useful format."
   ]
  },
  {
   "cell_type": "code",
   "execution_count": 25,
   "metadata": {},
   "outputs": [
    {
     "data": {
      "text/html": [
       "<div>\n",
       "<style scoped>\n",
       "    .dataframe tbody tr th:only-of-type {\n",
       "        vertical-align: middle;\n",
       "    }\n",
       "\n",
       "    .dataframe tbody tr th {\n",
       "        vertical-align: top;\n",
       "    }\n",
       "\n",
       "    .dataframe thead th {\n",
       "        text-align: right;\n",
       "    }\n",
       "</style>\n",
       "<table border=\"1\" class=\"dataframe\">\n",
       "  <thead>\n",
       "    <tr style=\"text-align: right;\">\n",
       "      <th></th>\n",
       "      <th>Away</th>\n",
       "      <th>fgm</th>\n",
       "      <th>3pm</th>\n",
       "      <th>ftm</th>\n",
       "      <th>trb</th>\n",
       "      <th>ast</th>\n",
       "      <th>stl</th>\n",
       "      <th>blk</th>\n",
       "      <th>tov</th>\n",
       "      <th>pts</th>\n",
       "    </tr>\n",
       "  </thead>\n",
       "  <tbody>\n",
       "    <tr>\n",
       "      <th>count</th>\n",
       "      <td>78345.000000</td>\n",
       "      <td>78345.000000</td>\n",
       "      <td>78345.000000</td>\n",
       "      <td>78345.000000</td>\n",
       "      <td>78345.000000</td>\n",
       "      <td>78345.000000</td>\n",
       "      <td>78345.000000</td>\n",
       "      <td>78345.000000</td>\n",
       "      <td>78345.000000</td>\n",
       "      <td>78345.000000</td>\n",
       "    </tr>\n",
       "    <tr>\n",
       "      <th>mean</th>\n",
       "      <td>0.499304</td>\n",
       "      <td>3.759755</td>\n",
       "      <td>0.989342</td>\n",
       "      <td>1.637373</td>\n",
       "      <td>4.150935</td>\n",
       "      <td>2.212088</td>\n",
       "      <td>0.723875</td>\n",
       "      <td>0.455677</td>\n",
       "      <td>1.274261</td>\n",
       "      <td>10.146225</td>\n",
       "    </tr>\n",
       "    <tr>\n",
       "      <th>std</th>\n",
       "      <td>0.500003</td>\n",
       "      <td>3.050701</td>\n",
       "      <td>1.340351</td>\n",
       "      <td>2.276314</td>\n",
       "      <td>3.506027</td>\n",
       "      <td>2.487444</td>\n",
       "      <td>0.967284</td>\n",
       "      <td>0.822392</td>\n",
       "      <td>1.388215</td>\n",
       "      <td>8.196583</td>\n",
       "    </tr>\n",
       "    <tr>\n",
       "      <th>min</th>\n",
       "      <td>0.000000</td>\n",
       "      <td>0.000000</td>\n",
       "      <td>0.000000</td>\n",
       "      <td>0.000000</td>\n",
       "      <td>0.000000</td>\n",
       "      <td>0.000000</td>\n",
       "      <td>0.000000</td>\n",
       "      <td>0.000000</td>\n",
       "      <td>0.000000</td>\n",
       "      <td>0.000000</td>\n",
       "    </tr>\n",
       "    <tr>\n",
       "      <th>25%</th>\n",
       "      <td>0.000000</td>\n",
       "      <td>1.000000</td>\n",
       "      <td>0.000000</td>\n",
       "      <td>0.000000</td>\n",
       "      <td>2.000000</td>\n",
       "      <td>0.000000</td>\n",
       "      <td>0.000000</td>\n",
       "      <td>0.000000</td>\n",
       "      <td>0.000000</td>\n",
       "      <td>4.000000</td>\n",
       "    </tr>\n",
       "    <tr>\n",
       "      <th>50%</th>\n",
       "      <td>0.000000</td>\n",
       "      <td>3.000000</td>\n",
       "      <td>0.000000</td>\n",
       "      <td>1.000000</td>\n",
       "      <td>3.000000</td>\n",
       "      <td>1.000000</td>\n",
       "      <td>0.000000</td>\n",
       "      <td>0.000000</td>\n",
       "      <td>1.000000</td>\n",
       "      <td>8.000000</td>\n",
       "    </tr>\n",
       "    <tr>\n",
       "      <th>75%</th>\n",
       "      <td>1.000000</td>\n",
       "      <td>6.000000</td>\n",
       "      <td>2.000000</td>\n",
       "      <td>2.000000</td>\n",
       "      <td>6.000000</td>\n",
       "      <td>3.000000</td>\n",
       "      <td>1.000000</td>\n",
       "      <td>1.000000</td>\n",
       "      <td>2.000000</td>\n",
       "      <td>15.000000</td>\n",
       "    </tr>\n",
       "    <tr>\n",
       "      <th>max</th>\n",
       "      <td>1.000000</td>\n",
       "      <td>23.000000</td>\n",
       "      <td>14.000000</td>\n",
       "      <td>24.000000</td>\n",
       "      <td>30.000000</td>\n",
       "      <td>25.000000</td>\n",
       "      <td>10.000000</td>\n",
       "      <td>10.000000</td>\n",
       "      <td>12.000000</td>\n",
       "      <td>70.000000</td>\n",
       "    </tr>\n",
       "  </tbody>\n",
       "</table>\n",
       "</div>"
      ],
      "text/plain": [
       "               Away           fgm           3pm           ftm           trb  \\\n",
       "count  78345.000000  78345.000000  78345.000000  78345.000000  78345.000000   \n",
       "mean       0.499304      3.759755      0.989342      1.637373      4.150935   \n",
       "std        0.500003      3.050701      1.340351      2.276314      3.506027   \n",
       "min        0.000000      0.000000      0.000000      0.000000      0.000000   \n",
       "25%        0.000000      1.000000      0.000000      0.000000      2.000000   \n",
       "50%        0.000000      3.000000      0.000000      1.000000      3.000000   \n",
       "75%        1.000000      6.000000      2.000000      2.000000      6.000000   \n",
       "max        1.000000     23.000000     14.000000     24.000000     30.000000   \n",
       "\n",
       "                ast           stl           blk           tov           pts  \n",
       "count  78345.000000  78345.000000  78345.000000  78345.000000  78345.000000  \n",
       "mean       2.212088      0.723875      0.455677      1.274261     10.146225  \n",
       "std        2.487444      0.967284      0.822392      1.388215      8.196583  \n",
       "min        0.000000      0.000000      0.000000      0.000000      0.000000  \n",
       "25%        0.000000      0.000000      0.000000      0.000000      4.000000  \n",
       "50%        1.000000      0.000000      0.000000      1.000000      8.000000  \n",
       "75%        3.000000      1.000000      1.000000      2.000000     15.000000  \n",
       "max       25.000000     10.000000     10.000000     12.000000     70.000000  "
      ]
     },
     "execution_count": 25,
     "metadata": {},
     "output_type": "execute_result"
    }
   ],
   "source": [
    "# ensure there are no outliers due to incorrect data\n",
    "nba_stats.describe()"
   ]
  },
  {
   "cell_type": "code",
   "execution_count": 26,
   "metadata": {},
   "outputs": [],
   "source": [
    "# sort by date to perform time series analyses\n",
    "nba_stats.sort_values(['Player','Date'],inplace=True)"
   ]
  },
  {
   "cell_type": "code",
   "execution_count": 27,
   "metadata": {},
   "outputs": [],
   "source": [
    "nba_stats.reset_index(drop=True,inplace=True)"
   ]
  },
  {
   "cell_type": "code",
   "execution_count": 28,
   "metadata": {},
   "outputs": [
    {
     "data": {
      "text/html": [
       "<div>\n",
       "<style scoped>\n",
       "    .dataframe tbody tr th:only-of-type {\n",
       "        vertical-align: middle;\n",
       "    }\n",
       "\n",
       "    .dataframe tbody tr th {\n",
       "        vertical-align: top;\n",
       "    }\n",
       "\n",
       "    .dataframe thead th {\n",
       "        text-align: right;\n",
       "    }\n",
       "</style>\n",
       "<table border=\"1\" class=\"dataframe\">\n",
       "  <thead>\n",
       "    <tr style=\"text-align: right;\">\n",
       "      <th></th>\n",
       "      <th>Player</th>\n",
       "      <th>Date</th>\n",
       "      <th>Team</th>\n",
       "      <th>Away</th>\n",
       "      <th>Opp</th>\n",
       "      <th>fgm</th>\n",
       "      <th>3pm</th>\n",
       "      <th>ftm</th>\n",
       "      <th>trb</th>\n",
       "      <th>ast</th>\n",
       "      <th>stl</th>\n",
       "      <th>blk</th>\n",
       "      <th>tov</th>\n",
       "      <th>pts</th>\n",
       "    </tr>\n",
       "  </thead>\n",
       "  <tbody>\n",
       "    <tr>\n",
       "      <th>0</th>\n",
       "      <td>A.J. Hammons</td>\n",
       "      <td>2016-10-28</td>\n",
       "      <td>DAL</td>\n",
       "      <td>0</td>\n",
       "      <td>HOU</td>\n",
       "      <td>0</td>\n",
       "      <td>0</td>\n",
       "      <td>0</td>\n",
       "      <td>0</td>\n",
       "      <td>1</td>\n",
       "      <td>0</td>\n",
       "      <td>0</td>\n",
       "      <td>0</td>\n",
       "      <td>0</td>\n",
       "    </tr>\n",
       "    <tr>\n",
       "      <th>1</th>\n",
       "      <td>A.J. Hammons</td>\n",
       "      <td>2016-11-04</td>\n",
       "      <td>DAL</td>\n",
       "      <td>0</td>\n",
       "      <td>POR</td>\n",
       "      <td>0</td>\n",
       "      <td>0</td>\n",
       "      <td>0</td>\n",
       "      <td>0</td>\n",
       "      <td>0</td>\n",
       "      <td>0</td>\n",
       "      <td>0</td>\n",
       "      <td>0</td>\n",
       "      <td>0</td>\n",
       "    </tr>\n",
       "    <tr>\n",
       "      <th>2</th>\n",
       "      <td>A.J. Hammons</td>\n",
       "      <td>2016-11-09</td>\n",
       "      <td>DAL</td>\n",
       "      <td>1</td>\n",
       "      <td>GSW</td>\n",
       "      <td>3</td>\n",
       "      <td>1</td>\n",
       "      <td>2</td>\n",
       "      <td>3</td>\n",
       "      <td>0</td>\n",
       "      <td>0</td>\n",
       "      <td>0</td>\n",
       "      <td>0</td>\n",
       "      <td>9</td>\n",
       "    </tr>\n",
       "    <tr>\n",
       "      <th>3</th>\n",
       "      <td>A.J. Hammons</td>\n",
       "      <td>2016-11-14</td>\n",
       "      <td>DAL</td>\n",
       "      <td>1</td>\n",
       "      <td>NYK</td>\n",
       "      <td>0</td>\n",
       "      <td>0</td>\n",
       "      <td>0</td>\n",
       "      <td>1</td>\n",
       "      <td>0</td>\n",
       "      <td>0</td>\n",
       "      <td>1</td>\n",
       "      <td>0</td>\n",
       "      <td>0</td>\n",
       "    </tr>\n",
       "    <tr>\n",
       "      <th>4</th>\n",
       "      <td>A.J. Hammons</td>\n",
       "      <td>2016-11-18</td>\n",
       "      <td>DAL</td>\n",
       "      <td>0</td>\n",
       "      <td>MEM</td>\n",
       "      <td>0</td>\n",
       "      <td>0</td>\n",
       "      <td>0</td>\n",
       "      <td>1</td>\n",
       "      <td>0</td>\n",
       "      <td>0</td>\n",
       "      <td>1</td>\n",
       "      <td>0</td>\n",
       "      <td>0</td>\n",
       "    </tr>\n",
       "  </tbody>\n",
       "</table>\n",
       "</div>"
      ],
      "text/plain": [
       "         Player       Date Team  Away  Opp  fgm  3pm  ftm  trb  ast  stl  blk  \\\n",
       "0  A.J. Hammons 2016-10-28  DAL     0  HOU    0    0    0    0    1    0    0   \n",
       "1  A.J. Hammons 2016-11-04  DAL     0  POR    0    0    0    0    0    0    0   \n",
       "2  A.J. Hammons 2016-11-09  DAL     1  GSW    3    1    2    3    0    0    0   \n",
       "3  A.J. Hammons 2016-11-14  DAL     1  NYK    0    0    0    1    0    0    1   \n",
       "4  A.J. Hammons 2016-11-18  DAL     0  MEM    0    0    0    1    0    0    1   \n",
       "\n",
       "   tov  pts  \n",
       "0    0    0  \n",
       "1    0    0  \n",
       "2    0    9  \n",
       "3    0    0  \n",
       "4    0    0  "
      ]
     },
     "execution_count": 28,
     "metadata": {},
     "output_type": "execute_result"
    }
   ],
   "source": [
    "nba_stats.head()"
   ]
  },
  {
   "cell_type": "code",
   "execution_count": 29,
   "metadata": {},
   "outputs": [],
   "source": [
    "nba_stats['days_rest'] = nba_stats.Date.dt.date.diff().dt.days"
   ]
  },
  {
   "cell_type": "code",
   "execution_count": 30,
   "metadata": {},
   "outputs": [
    {
     "data": {
      "text/plain": [
       "Player               object\n",
       "Date         datetime64[ns]\n",
       "Team                 object\n",
       "Away                  int64\n",
       "Opp                  object\n",
       "fgm                   int64\n",
       "3pm                   int64\n",
       "ftm                   int64\n",
       "trb                   int64\n",
       "ast                   int64\n",
       "stl                   int64\n",
       "blk                   int64\n",
       "tov                   int64\n",
       "pts                   int64\n",
       "days_rest           float64\n",
       "dtype: object"
      ]
     },
     "execution_count": 30,
     "metadata": {},
     "output_type": "execute_result"
    }
   ],
   "source": [
    "nba_stats.dtypes"
   ]
  },
  {
   "cell_type": "code",
   "execution_count": 31,
   "metadata": {},
   "outputs": [
    {
     "data": {
      "text/plain": [
       " 2.0      42419\n",
       " 1.0      12503\n",
       " 3.0      12200\n",
       " 4.0       3495\n",
       " 5.0       1345\n",
       "          ...  \n",
       " 238.0        1\n",
       "-341.0        1\n",
       " 327.0        1\n",
       "-852.0        1\n",
       " 376.0        1\n",
       "Name: days_rest, Length: 536, dtype: int64"
      ]
     },
     "execution_count": 31,
     "metadata": {},
     "output_type": "execute_result"
    }
   ],
   "source": [
    "nba_stats.days_rest.value_counts()"
   ]
  },
  {
   "cell_type": "code",
   "execution_count": 32,
   "metadata": {},
   "outputs": [],
   "source": [
    "# there will be issues each time the series switches to a new player, or a new season\n",
    "# I will set all of those to zero, assuming a player that hasn't played in a long time may perform even worse \n",
    "# than when having little rest\n",
    "\n",
    "nba_stats.loc[nba_stats.days_rest>7,'days_rest'] = 0\n",
    "nba_stats.loc[nba_stats.days_rest<0,'days_rest'] = 0\n",
    "nba_stats.days_rest.fillna(0,inplace=True)"
   ]
  },
  {
   "cell_type": "code",
   "execution_count": 33,
   "metadata": {},
   "outputs": [
    {
     "data": {
      "text/plain": [
       "2.0    42419\n",
       "1.0    12503\n",
       "3.0    12200\n",
       "0.0     5069\n",
       "4.0     3495\n",
       "5.0     1345\n",
       "6.0      771\n",
       "7.0      543\n",
       "Name: days_rest, dtype: int64"
      ]
     },
     "execution_count": 33,
     "metadata": {},
     "output_type": "execute_result"
    }
   ],
   "source": [
    "nba_stats.days_rest.value_counts()"
   ]
  },
  {
   "cell_type": "code",
   "execution_count": 34,
   "metadata": {},
   "outputs": [
    {
     "data": {
      "text/html": [
       "<div>\n",
       "<style scoped>\n",
       "    .dataframe tbody tr th:only-of-type {\n",
       "        vertical-align: middle;\n",
       "    }\n",
       "\n",
       "    .dataframe tbody tr th {\n",
       "        vertical-align: top;\n",
       "    }\n",
       "\n",
       "    .dataframe thead th {\n",
       "        text-align: right;\n",
       "    }\n",
       "</style>\n",
       "<table border=\"1\" class=\"dataframe\">\n",
       "  <thead>\n",
       "    <tr style=\"text-align: right;\">\n",
       "      <th></th>\n",
       "      <th>Player</th>\n",
       "      <th>Date</th>\n",
       "      <th>Team</th>\n",
       "      <th>Away</th>\n",
       "      <th>Opp</th>\n",
       "      <th>fgm</th>\n",
       "      <th>3pm</th>\n",
       "      <th>ftm</th>\n",
       "      <th>trb</th>\n",
       "      <th>ast</th>\n",
       "      <th>stl</th>\n",
       "      <th>blk</th>\n",
       "      <th>tov</th>\n",
       "      <th>pts</th>\n",
       "      <th>days_rest</th>\n",
       "    </tr>\n",
       "  </thead>\n",
       "  <tbody>\n",
       "    <tr>\n",
       "      <th>0</th>\n",
       "      <td>A.J. Hammons</td>\n",
       "      <td>2016-10-28</td>\n",
       "      <td>DAL</td>\n",
       "      <td>0</td>\n",
       "      <td>HOU</td>\n",
       "      <td>0</td>\n",
       "      <td>0</td>\n",
       "      <td>0</td>\n",
       "      <td>0</td>\n",
       "      <td>1</td>\n",
       "      <td>0</td>\n",
       "      <td>0</td>\n",
       "      <td>0</td>\n",
       "      <td>0</td>\n",
       "      <td>0.0</td>\n",
       "    </tr>\n",
       "    <tr>\n",
       "      <th>1</th>\n",
       "      <td>A.J. Hammons</td>\n",
       "      <td>2016-11-04</td>\n",
       "      <td>DAL</td>\n",
       "      <td>0</td>\n",
       "      <td>POR</td>\n",
       "      <td>0</td>\n",
       "      <td>0</td>\n",
       "      <td>0</td>\n",
       "      <td>0</td>\n",
       "      <td>0</td>\n",
       "      <td>0</td>\n",
       "      <td>0</td>\n",
       "      <td>0</td>\n",
       "      <td>0</td>\n",
       "      <td>7.0</td>\n",
       "    </tr>\n",
       "    <tr>\n",
       "      <th>2</th>\n",
       "      <td>A.J. Hammons</td>\n",
       "      <td>2016-11-09</td>\n",
       "      <td>DAL</td>\n",
       "      <td>1</td>\n",
       "      <td>GSW</td>\n",
       "      <td>3</td>\n",
       "      <td>1</td>\n",
       "      <td>2</td>\n",
       "      <td>3</td>\n",
       "      <td>0</td>\n",
       "      <td>0</td>\n",
       "      <td>0</td>\n",
       "      <td>0</td>\n",
       "      <td>9</td>\n",
       "      <td>5.0</td>\n",
       "    </tr>\n",
       "    <tr>\n",
       "      <th>3</th>\n",
       "      <td>A.J. Hammons</td>\n",
       "      <td>2016-11-14</td>\n",
       "      <td>DAL</td>\n",
       "      <td>1</td>\n",
       "      <td>NYK</td>\n",
       "      <td>0</td>\n",
       "      <td>0</td>\n",
       "      <td>0</td>\n",
       "      <td>1</td>\n",
       "      <td>0</td>\n",
       "      <td>0</td>\n",
       "      <td>1</td>\n",
       "      <td>0</td>\n",
       "      <td>0</td>\n",
       "      <td>5.0</td>\n",
       "    </tr>\n",
       "    <tr>\n",
       "      <th>4</th>\n",
       "      <td>A.J. Hammons</td>\n",
       "      <td>2016-11-18</td>\n",
       "      <td>DAL</td>\n",
       "      <td>0</td>\n",
       "      <td>MEM</td>\n",
       "      <td>0</td>\n",
       "      <td>0</td>\n",
       "      <td>0</td>\n",
       "      <td>1</td>\n",
       "      <td>0</td>\n",
       "      <td>0</td>\n",
       "      <td>1</td>\n",
       "      <td>0</td>\n",
       "      <td>0</td>\n",
       "      <td>4.0</td>\n",
       "    </tr>\n",
       "  </tbody>\n",
       "</table>\n",
       "</div>"
      ],
      "text/plain": [
       "         Player       Date Team  Away  Opp  fgm  3pm  ftm  trb  ast  stl  blk  \\\n",
       "0  A.J. Hammons 2016-10-28  DAL     0  HOU    0    0    0    0    1    0    0   \n",
       "1  A.J. Hammons 2016-11-04  DAL     0  POR    0    0    0    0    0    0    0   \n",
       "2  A.J. Hammons 2016-11-09  DAL     1  GSW    3    1    2    3    0    0    0   \n",
       "3  A.J. Hammons 2016-11-14  DAL     1  NYK    0    0    0    1    0    0    1   \n",
       "4  A.J. Hammons 2016-11-18  DAL     0  MEM    0    0    0    1    0    0    1   \n",
       "\n",
       "   tov  pts  days_rest  \n",
       "0    0    0        0.0  \n",
       "1    0    0        7.0  \n",
       "2    0    9        5.0  \n",
       "3    0    0        5.0  \n",
       "4    0    0        4.0  "
      ]
     },
     "execution_count": 34,
     "metadata": {},
     "output_type": "execute_result"
    }
   ],
   "source": [
    "nba_stats.head()"
   ]
  },
  {
   "cell_type": "markdown",
   "metadata": {},
   "source": [
    "Now I need to calculate fantasy points scored based on these stats.  DraftKings and FanDuel have slightly different methods, and I will calculate both.  Guides linked below.\n",
    "\n",
    "[FanDuel](https://www.fanduel.com/nba-training-guide-2019) \\\n",
    "[DraftKings](https://www.draftkings.com/help/rules/nba)"
   ]
  },
  {
   "cell_type": "code",
   "execution_count": 35,
   "metadata": {},
   "outputs": [],
   "source": [
    "nba_stats['dd'] = ((nba_stats.pts>=10) & ((nba_stats.trb>=10) | (nba_stats.ast>=10))).astype(int)\n",
    "nba_stats['td'] = ((nba_stats.pts>=10) & (nba_stats.trb>=10) & (nba_stats.ast>=10)).astype(int)"
   ]
  },
  {
   "cell_type": "code",
   "execution_count": 36,
   "metadata": {},
   "outputs": [],
   "source": [
    "dk = nba_stats.pts + (0.5*(nba_stats['3pm'])) + (1.25*nba_stats.trb) + (1.5*nba_stats.ast) + (2*nba_stats.stl) + \\\n",
    "(2*nba_stats.blk) - (0.5*nba_stats.tov) + (1.5*nba_stats.dd) + (1.5*nba_stats.td)\n",
    "\n",
    "fd = nba_stats.pts + (1.2*nba_stats.trb) + (1.5*nba_stats.ast) + (3*nba_stats.stl) + (3*nba_stats.blk) - nba_stats.tov\n",
    "(3*nba_stats.blk) - nba_stats.tov\n",
    "\n",
    "nba_stats.insert(0,'dk_score',dk)\n",
    "nba_stats.insert(0,'fd_score',fd)"
   ]
  },
  {
   "cell_type": "code",
   "execution_count": 37,
   "metadata": {},
   "outputs": [
    {
     "data": {
      "text/html": [
       "<div>\n",
       "<style scoped>\n",
       "    .dataframe tbody tr th:only-of-type {\n",
       "        vertical-align: middle;\n",
       "    }\n",
       "\n",
       "    .dataframe tbody tr th {\n",
       "        vertical-align: top;\n",
       "    }\n",
       "\n",
       "    .dataframe thead th {\n",
       "        text-align: right;\n",
       "    }\n",
       "</style>\n",
       "<table border=\"1\" class=\"dataframe\">\n",
       "  <thead>\n",
       "    <tr style=\"text-align: right;\">\n",
       "      <th></th>\n",
       "      <th>fd_score</th>\n",
       "      <th>dk_score</th>\n",
       "      <th>Player</th>\n",
       "      <th>Date</th>\n",
       "      <th>Team</th>\n",
       "      <th>Away</th>\n",
       "      <th>Opp</th>\n",
       "      <th>fgm</th>\n",
       "      <th>3pm</th>\n",
       "      <th>ftm</th>\n",
       "      <th>trb</th>\n",
       "      <th>ast</th>\n",
       "      <th>stl</th>\n",
       "      <th>blk</th>\n",
       "      <th>tov</th>\n",
       "      <th>pts</th>\n",
       "      <th>days_rest</th>\n",
       "      <th>dd</th>\n",
       "      <th>td</th>\n",
       "    </tr>\n",
       "  </thead>\n",
       "  <tbody>\n",
       "    <tr>\n",
       "      <th>0</th>\n",
       "      <td>1.5</td>\n",
       "      <td>1.50</td>\n",
       "      <td>A.J. Hammons</td>\n",
       "      <td>2016-10-28</td>\n",
       "      <td>DAL</td>\n",
       "      <td>0</td>\n",
       "      <td>HOU</td>\n",
       "      <td>0</td>\n",
       "      <td>0</td>\n",
       "      <td>0</td>\n",
       "      <td>0</td>\n",
       "      <td>1</td>\n",
       "      <td>0</td>\n",
       "      <td>0</td>\n",
       "      <td>0</td>\n",
       "      <td>0</td>\n",
       "      <td>0.0</td>\n",
       "      <td>0</td>\n",
       "      <td>0</td>\n",
       "    </tr>\n",
       "    <tr>\n",
       "      <th>1</th>\n",
       "      <td>0.0</td>\n",
       "      <td>0.00</td>\n",
       "      <td>A.J. Hammons</td>\n",
       "      <td>2016-11-04</td>\n",
       "      <td>DAL</td>\n",
       "      <td>0</td>\n",
       "      <td>POR</td>\n",
       "      <td>0</td>\n",
       "      <td>0</td>\n",
       "      <td>0</td>\n",
       "      <td>0</td>\n",
       "      <td>0</td>\n",
       "      <td>0</td>\n",
       "      <td>0</td>\n",
       "      <td>0</td>\n",
       "      <td>0</td>\n",
       "      <td>7.0</td>\n",
       "      <td>0</td>\n",
       "      <td>0</td>\n",
       "    </tr>\n",
       "    <tr>\n",
       "      <th>2</th>\n",
       "      <td>12.6</td>\n",
       "      <td>13.25</td>\n",
       "      <td>A.J. Hammons</td>\n",
       "      <td>2016-11-09</td>\n",
       "      <td>DAL</td>\n",
       "      <td>1</td>\n",
       "      <td>GSW</td>\n",
       "      <td>3</td>\n",
       "      <td>1</td>\n",
       "      <td>2</td>\n",
       "      <td>3</td>\n",
       "      <td>0</td>\n",
       "      <td>0</td>\n",
       "      <td>0</td>\n",
       "      <td>0</td>\n",
       "      <td>9</td>\n",
       "      <td>5.0</td>\n",
       "      <td>0</td>\n",
       "      <td>0</td>\n",
       "    </tr>\n",
       "    <tr>\n",
       "      <th>3</th>\n",
       "      <td>4.2</td>\n",
       "      <td>3.25</td>\n",
       "      <td>A.J. Hammons</td>\n",
       "      <td>2016-11-14</td>\n",
       "      <td>DAL</td>\n",
       "      <td>1</td>\n",
       "      <td>NYK</td>\n",
       "      <td>0</td>\n",
       "      <td>0</td>\n",
       "      <td>0</td>\n",
       "      <td>1</td>\n",
       "      <td>0</td>\n",
       "      <td>0</td>\n",
       "      <td>1</td>\n",
       "      <td>0</td>\n",
       "      <td>0</td>\n",
       "      <td>5.0</td>\n",
       "      <td>0</td>\n",
       "      <td>0</td>\n",
       "    </tr>\n",
       "    <tr>\n",
       "      <th>4</th>\n",
       "      <td>4.2</td>\n",
       "      <td>3.25</td>\n",
       "      <td>A.J. Hammons</td>\n",
       "      <td>2016-11-18</td>\n",
       "      <td>DAL</td>\n",
       "      <td>0</td>\n",
       "      <td>MEM</td>\n",
       "      <td>0</td>\n",
       "      <td>0</td>\n",
       "      <td>0</td>\n",
       "      <td>1</td>\n",
       "      <td>0</td>\n",
       "      <td>0</td>\n",
       "      <td>1</td>\n",
       "      <td>0</td>\n",
       "      <td>0</td>\n",
       "      <td>4.0</td>\n",
       "      <td>0</td>\n",
       "      <td>0</td>\n",
       "    </tr>\n",
       "  </tbody>\n",
       "</table>\n",
       "</div>"
      ],
      "text/plain": [
       "   fd_score  dk_score        Player       Date Team  Away  Opp  fgm  3pm  ftm  \\\n",
       "0       1.5      1.50  A.J. Hammons 2016-10-28  DAL     0  HOU    0    0    0   \n",
       "1       0.0      0.00  A.J. Hammons 2016-11-04  DAL     0  POR    0    0    0   \n",
       "2      12.6     13.25  A.J. Hammons 2016-11-09  DAL     1  GSW    3    1    2   \n",
       "3       4.2      3.25  A.J. Hammons 2016-11-14  DAL     1  NYK    0    0    0   \n",
       "4       4.2      3.25  A.J. Hammons 2016-11-18  DAL     0  MEM    0    0    0   \n",
       "\n",
       "   trb  ast  stl  blk  tov  pts  days_rest  dd  td  \n",
       "0    0    1    0    0    0    0        0.0   0   0  \n",
       "1    0    0    0    0    0    0        7.0   0   0  \n",
       "2    3    0    0    0    0    9        5.0   0   0  \n",
       "3    1    0    0    1    0    0        5.0   0   0  \n",
       "4    1    0    0    1    0    0        4.0   0   0  "
      ]
     },
     "execution_count": 37,
     "metadata": {},
     "output_type": "execute_result"
    }
   ],
   "source": [
    "nba_stats.head()"
   ]
  },
  {
   "cell_type": "markdown",
   "metadata": {},
   "source": [
    "And now for a very important piece of analysis - trends with time series analysis!  To capture the effect of hot/cold streaks I will take the 3- and 7-game rolling averages of the fantasy scores.  We don't even need to worry about which stats are trending for a given player because they will always be reflected in the fantasy score per the formula. We also want the player's overall average so the model will be able to gauge a long-term mean."
   ]
  },
  {
   "cell_type": "code",
   "execution_count": 38,
   "metadata": {
    "scrolled": true
   },
   "outputs": [],
   "source": [
    "for col in ['dk_score','fd_score']:\n",
    "    nba_stats[col+ '_trend3'] = nba_stats[col].rolling(window=3).mean().shift(1)\n",
    "    nba_stats[col+ '_trend7'] = nba_stats[col].rolling(window=7).mean().shift(1)"
   ]
  },
  {
   "cell_type": "markdown",
   "metadata": {},
   "source": [
    "Now, for the first 3 and 7 values in each field respectively, the average will be incorrect because it will be incorporating other players' scores.  I will replace those values with the player's overall averages."
   ]
  },
  {
   "cell_type": "code",
   "execution_count": 39,
   "metadata": {},
   "outputs": [],
   "source": [
    "for player in nba_stats.Player.unique():\n",
    "    nba_stats.loc[nba_stats[nba_stats.Player==player].head(3).index,'dk_score_trend3'] = nba_stats[nba_stats.Player==player]['pts'].mean()\n",
    "    nba_stats.loc[nba_stats[nba_stats.Player==player].head(7).index,'dk_score_trend7'] = nba_stats[nba_stats.Player==player]['pts'].mean()\n",
    "    nba_stats.loc[nba_stats[nba_stats.Player==player].head(3).index,'fd_score_trend3'] = nba_stats[nba_stats.Player==player]['pts'].mean()\n",
    "    nba_stats.loc[nba_stats[nba_stats.Player==player].head(7).index,'fd_score_trend7'] = nba_stats[nba_stats.Player==player]['pts'].mean()"
   ]
  },
  {
   "cell_type": "code",
   "execution_count": 40,
   "metadata": {},
   "outputs": [],
   "source": [
    "import matplotlib.pyplot as plt\n",
    "import seaborn as sns\n",
    "%matplotlib inline\n",
    "sns.set()"
   ]
  },
  {
   "cell_type": "code",
   "execution_count": 41,
   "metadata": {},
   "outputs": [],
   "source": [
    "per_player_opp = nba_stats.groupby(['Player','Opp'])[['dk_score','fd_score']].mean().reset_index()\n",
    "per_player_opp.columns = ['Player','Opp','dk_score_opp','fd_score_opp']\n",
    "\n",
    "player_mean = nba_stats.groupby('Player')[['dk_score','fd_score']].mean().reset_index()\n",
    "player_mean.columns = ['Player','dk_mean','fd_mean']"
   ]
  },
  {
   "cell_type": "code",
   "execution_count": 42,
   "metadata": {},
   "outputs": [],
   "source": [
    "nba_stats = pd.merge(nba_stats,per_player_opp,on=['Player','Opp'])\n",
    "nba_stats = pd.merge(nba_stats,player_mean,on='Player')"
   ]
  },
  {
   "cell_type": "code",
   "execution_count": 43,
   "metadata": {},
   "outputs": [
    {
     "data": {
      "text/html": [
       "<div>\n",
       "<style scoped>\n",
       "    .dataframe tbody tr th:only-of-type {\n",
       "        vertical-align: middle;\n",
       "    }\n",
       "\n",
       "    .dataframe tbody tr th {\n",
       "        vertical-align: top;\n",
       "    }\n",
       "\n",
       "    .dataframe thead th {\n",
       "        text-align: right;\n",
       "    }\n",
       "</style>\n",
       "<table border=\"1\" class=\"dataframe\">\n",
       "  <thead>\n",
       "    <tr style=\"text-align: right;\">\n",
       "      <th></th>\n",
       "      <th>dk_score</th>\n",
       "      <th>Opp</th>\n",
       "      <th>dk_score_opp</th>\n",
       "    </tr>\n",
       "  </thead>\n",
       "  <tbody>\n",
       "    <tr>\n",
       "      <th>46892</th>\n",
       "      <td>56.75</td>\n",
       "      <td>NYK</td>\n",
       "      <td>49.861111</td>\n",
       "    </tr>\n",
       "    <tr>\n",
       "      <th>46893</th>\n",
       "      <td>47.50</td>\n",
       "      <td>NYK</td>\n",
       "      <td>49.861111</td>\n",
       "    </tr>\n",
       "    <tr>\n",
       "      <th>46894</th>\n",
       "      <td>54.25</td>\n",
       "      <td>NYK</td>\n",
       "      <td>49.861111</td>\n",
       "    </tr>\n",
       "    <tr>\n",
       "      <th>46895</th>\n",
       "      <td>62.75</td>\n",
       "      <td>NYK</td>\n",
       "      <td>49.861111</td>\n",
       "    </tr>\n",
       "    <tr>\n",
       "      <th>46896</th>\n",
       "      <td>43.00</td>\n",
       "      <td>NYK</td>\n",
       "      <td>49.861111</td>\n",
       "    </tr>\n",
       "    <tr>\n",
       "      <th>...</th>\n",
       "      <td>...</td>\n",
       "      <td>...</td>\n",
       "      <td>...</td>\n",
       "    </tr>\n",
       "    <tr>\n",
       "      <th>47098</th>\n",
       "      <td>68.50</td>\n",
       "      <td>DEN</td>\n",
       "      <td>53.071429</td>\n",
       "    </tr>\n",
       "    <tr>\n",
       "      <th>47099</th>\n",
       "      <td>66.75</td>\n",
       "      <td>DEN</td>\n",
       "      <td>53.071429</td>\n",
       "    </tr>\n",
       "    <tr>\n",
       "      <th>47100</th>\n",
       "      <td>31.75</td>\n",
       "      <td>DEN</td>\n",
       "      <td>53.071429</td>\n",
       "    </tr>\n",
       "    <tr>\n",
       "      <th>47101</th>\n",
       "      <td>53.25</td>\n",
       "      <td>DEN</td>\n",
       "      <td>53.071429</td>\n",
       "    </tr>\n",
       "    <tr>\n",
       "      <th>47102</th>\n",
       "      <td>62.50</td>\n",
       "      <td>CLE</td>\n",
       "      <td>62.500000</td>\n",
       "    </tr>\n",
       "  </tbody>\n",
       "</table>\n",
       "<p>211 rows × 3 columns</p>\n",
       "</div>"
      ],
      "text/plain": [
       "       dk_score  Opp  dk_score_opp\n",
       "46892     56.75  NYK     49.861111\n",
       "46893     47.50  NYK     49.861111\n",
       "46894     54.25  NYK     49.861111\n",
       "46895     62.75  NYK     49.861111\n",
       "46896     43.00  NYK     49.861111\n",
       "...         ...  ...           ...\n",
       "47098     68.50  DEN     53.071429\n",
       "47099     66.75  DEN     53.071429\n",
       "47100     31.75  DEN     53.071429\n",
       "47101     53.25  DEN     53.071429\n",
       "47102     62.50  CLE     62.500000\n",
       "\n",
       "[211 rows x 3 columns]"
      ]
     },
     "execution_count": 43,
     "metadata": {},
     "output_type": "execute_result"
    }
   ],
   "source": [
    "lebron = nba_stats[nba_stats.Player=='LeBron James']\n",
    "lebron[['dk_score','Opp','dk_score_opp']]"
   ]
  },
  {
   "cell_type": "code",
   "execution_count": 44,
   "metadata": {},
   "outputs": [
    {
     "data": {
      "image/png": "[encoded data removed]",
      "text/plain": [
       "<Figure size 1008x432 with 1 Axes>"
      ]
     },
     "metadata": {},
     "output_type": "display_data"
    }
   ],
   "source": [
    "def plot_player_opp(player_list):\n",
    "    data = nba_stats[nba_stats.Player.isin(player_list)]\n",
    "    data_by_opp = data.groupby('Opp')['dk_score'].mean().reset_index().sort_values(by='dk_score',ascending=False)\n",
    "    plt.figure(figsize=(14,6))\n",
    "    sns.barplot(x='Opp',y='dk_score',data=data_by_opp)\n",
    "    plt.xlabel('Opposing Team')\n",
    "    plt.ylabel('Draft Kings Score')\n",
    "    if len(player_list) >1:\n",
    "        plt.title('Draft Kings Score per Opponent',fontsize=20)\n",
    "    else:\n",
    "        plt.title(player_list[0]+' Draft Kings Score per Opponent',fontsize=20);\n",
    "    \n",
    "plot_player_opp(['LeBron James'])"
   ]
  },
  {
   "cell_type": "code",
   "execution_count": 45,
   "metadata": {},
   "outputs": [
    {
     "data": {
      "image/png": "[encoded data removed]",
      "text/plain": [
       "<Figure size 1008x432 with 1 Axes>"
      ]
     },
     "metadata": {},
     "output_type": "display_data"
    }
   ],
   "source": [
    "top_ten = ['LeBron James','Giannis Antetokounmpo','James Harden','Steph Curry','Kevin Durant',\n",
    "          'Damian Lillard','Russell Westbrook','Kawhi Leonard','Joel Embiid']\n",
    "plot_player_opp(top_ten)"
   ]
  },
  {
   "cell_type": "code",
   "execution_count": 46,
   "metadata": {},
   "outputs": [
    {
     "data": {
      "image/png": "[encoded data removed]",
      "text/plain": [
       "<Figure size 432x288 with 1 Axes>"
      ]
     },
     "metadata": {},
     "output_type": "display_data"
    }
   ],
   "source": [
    "def plot_player_away(player_list):\n",
    "    data = nba_stats[nba_stats.Player.isin(player_list)]\n",
    "    data_by_away = data.groupby('Away')['dk_score'].mean().reset_index()\n",
    "    data_by_away.Away = data_by_away.Away.map({0:'Home',1:'Road'})\n",
    "    sns.barplot(x='Away',y='dk_score',data=data_by_away)\n",
    "    plt.xlabel('')\n",
    "    plt.ylabel('Draft Kings Score')\n",
    "    if len(player_list) >1:\n",
    "        plt.title('Draft Kings Score Home v. Road',fontsize=20)\n",
    "    else:\n",
    "        plt.title(player_list[0]+' Draft Kings Score Home v. Road',fontsize=20);\n",
    "    \n",
    "plot_player_away(['LeBron James'])"
   ]
  },
  {
   "cell_type": "code",
   "execution_count": 47,
   "metadata": {},
   "outputs": [
    {
     "data": {
      "image/png": "[encoded data removed]",
      "text/plain": [
       "<Figure size 432x288 with 1 Axes>"
      ]
     },
     "metadata": {},
     "output_type": "display_data"
    }
   ],
   "source": [
    "plot_player_away(top_ten)"
   ]
  },
  {
   "cell_type": "code",
   "execution_count": 48,
   "metadata": {},
   "outputs": [
    {
     "data": {
      "image/png": "[encoded data removed]",
      "text/plain": [
       "<Figure size 1008x432 with 1 Axes>"
      ]
     },
     "metadata": {},
     "output_type": "display_data"
    }
   ],
   "source": [
    "def plot_player_days_rest(player_list):\n",
    "    data = nba_stats[nba_stats.Player.isin(player_list)]\n",
    "    data_by_days_rest = data.groupby('days_rest')['dk_score'].mean().reset_index()\n",
    "    plt.figure(figsize=(14,6))\n",
    "    sns.barplot(x='days_rest',y='dk_score',data=data_by_days_rest)\n",
    "    plt.xlabel('Days Rest')\n",
    "    plt.ylabel('Draft Kings Score')\n",
    "    if len(player_list) >1:\n",
    "        plt.title('Draft Kings Score per Days Rest',fontsize=20)\n",
    "    else:\n",
    "        plt.title(player_list[0]+' Draft Kings Score per Days Rest',fontsize=20);\n",
    "        \n",
    "plot_player_days_rest(['LeBron James'])"
   ]
  },
  {
   "cell_type": "code",
   "execution_count": 49,
   "metadata": {},
   "outputs": [
    {
     "data": {
      "image/png": "[encoded data removed]",
      "text/plain": [
       "<Figure size 1008x432 with 1 Axes>"
      ]
     },
     "metadata": {},
     "output_type": "display_data"
    }
   ],
   "source": [
    "plot_player_days_rest(nba_stats.Player.unique())"
   ]
  },
  {
   "cell_type": "code",
   "execution_count": 68,
   "metadata": {},
   "outputs": [
    {
     "data": {
      "image/png": "[encoded data removed]",
      "text/plain": [
       "<Figure size 1080x180 with 6 Axes>"
      ]
     },
     "metadata": {},
     "output_type": "display_data"
    }
   ],
   "source": [
    "features = ['Away','days_rest','dk_score_trend3','dk_score_trend7','dk_mean','dk_score_opp']\n",
    "sns.pairplot(nba_stats,x_vars=features,y_vars='dk_score');"
   ]
  },
  {
   "cell_type": "code",
   "execution_count": 66,
   "metadata": {},
   "outputs": [
    {
     "data": {
      "application/vnd.plotly.v1+json": {
       "config": {
        "plotlyServerURL": "https://plot.ly"
       },
       "data": [
        {
         "colorscale": [
          [
           0,
           "#00083e"
          ],
          [
           0.5,
           "#ededee"
          ],
          [
           1,
           "#ffffff"
          ]
         ],
         "hoverinfo": "none",
         "opacity": 0.75,
         "showscale": false,
         "type": "heatmap",
         "z": [
          [
           0,
           0
          ],
          [
           0,
           0.5
          ],
          [
           0,
           1
          ],
          [
           0,
           0.5
          ],
          [
           0,
           1
          ],
          [
           0,
           0.5
          ],
          [
           0,
           1
          ]
         ]
        }
       ],
       "layout": {
        "annotations": [
         {
          "align": "left",
          "font": {
           "color": "#ffffff"
          },
          "showarrow": false,
          "text": "<b></b>",
          "x": -0.45,
          "xanchor": "left",
          "xref": "x",
          "y": 0,
          "yref": "y"
         },
         {
          "align": "left",
          "font": {
           "color": "#ffffff"
          },
          "showarrow": false,
          "text": "<b>Draft Kings Score</b>",
          "x": 0.55,
          "xanchor": "left",
          "xref": "x",
          "y": 0,
          "yref": "y"
         },
         {
          "align": "left",
          "font": {
           "color": "#ffffff"
          },
          "showarrow": false,
          "text": "<b>Road Team</b>",
          "x": -0.45,
          "xanchor": "left",
          "xref": "x",
          "y": 1,
          "yref": "y"
         },
         {
          "align": "left",
          "font": {
           "color": "#000000"
          },
          "showarrow": false,
          "text": "-0.020803102519125764",
          "x": 0.55,
          "xanchor": "left",
          "xref": "x",
          "y": 1,
          "yref": "y"
         },
         {
          "align": "left",
          "font": {
           "color": "#ffffff"
          },
          "showarrow": false,
          "text": "<b>Days Rest</b>",
          "x": -0.45,
          "xanchor": "left",
          "xref": "x",
          "y": 2,
          "yref": "y"
         },
         {
          "align": "left",
          "font": {
           "color": "#000000"
          },
          "showarrow": false,
          "text": "-0.02172253111340591",
          "x": 0.55,
          "xanchor": "left",
          "xref": "x",
          "y": 2,
          "yref": "y"
         },
         {
          "align": "left",
          "font": {
           "color": "#ffffff"
          },
          "showarrow": false,
          "text": "<b>3 Game Trend</b>",
          "x": -0.45,
          "xanchor": "left",
          "xref": "x",
          "y": 3,
          "yref": "y"
         },
         {
          "align": "left",
          "font": {
           "color": "#000000"
          },
          "showarrow": false,
          "text": "0.7126103304304383",
          "x": 0.55,
          "xanchor": "left",
          "xref": "x",
          "y": 3,
          "yref": "y"
         },
         {
          "align": "left",
          "font": {
           "color": "#ffffff"
          },
          "showarrow": false,
          "text": "<b>7 Game Trend</b>",
          "x": -0.45,
          "xanchor": "left",
          "xref": "x",
          "y": 4,
          "yref": "y"
         },
         {
          "align": "left",
          "font": {
           "color": "#000000"
          },
          "showarrow": false,
          "text": "0.7294780652948895",
          "x": 0.55,
          "xanchor": "left",
          "xref": "x",
          "y": 4,
          "yref": "y"
         },
         {
          "align": "left",
          "font": {
           "color": "#ffffff"
          },
          "showarrow": false,
          "text": "<b>Season Average</b>",
          "x": -0.45,
          "xanchor": "left",
          "xref": "x",
          "y": 5,
          "yref": "y"
         },
         {
          "align": "left",
          "font": {
           "color": "#000000"
          },
          "showarrow": false,
          "text": "0.7259063796641348",
          "x": 0.55,
          "xanchor": "left",
          "xref": "x",
          "y": 5,
          "yref": "y"
         },
         {
          "align": "left",
          "font": {
           "color": "#ffffff"
          },
          "showarrow": false,
          "text": "<b>Average v. Opponent</b>",
          "x": -0.45,
          "xanchor": "left",
          "xref": "x",
          "y": 6,
          "yref": "y"
         },
         {
          "align": "left",
          "font": {
           "color": "#000000"
          },
          "showarrow": false,
          "text": "0.7861655055982963",
          "x": 0.55,
          "xanchor": "left",
          "xref": "x",
          "y": 6,
          "yref": "y"
         }
        ],
        "autosize": false,
        "height": 200,
        "margin": {
         "b": 0,
         "l": 0,
         "r": 0,
         "t": 0
        },
        "template": {
         "data": {
          "bar": [
           {
            "error_x": {
             "color": "#2a3f5f"
            },
            "error_y": {
             "color": "#2a3f5f"
            },
            "marker": {
             "line": {
              "color": "#E5ECF6",
              "width": 0.5
             }
            },
            "type": "bar"
           }
          ],
          "barpolar": [
           {
            "marker": {
             "line": {
              "color": "#E5ECF6",
              "width": 0.5
             }
            },
            "type": "barpolar"
           }
          ],
          "carpet": [
           {
            "aaxis": {
             "endlinecolor": "#2a3f5f",
             "gridcolor": "white",
             "linecolor": "white",
             "minorgridcolor": "white",
             "startlinecolor": "#2a3f5f"
            },
            "baxis": {
             "endlinecolor": "#2a3f5f",
             "gridcolor": "white",
             "linecolor": "white",
             "minorgridcolor": "white",
             "startlinecolor": "#2a3f5f"
            },
            "type": "carpet"
           }
          ],
          "choropleth": [
           {
            "colorbar": {
             "outlinewidth": 0,
             "ticks": ""
            },
            "type": "choropleth"
           }
          ],
          "contour": [
           {
            "colorbar": {
             "outlinewidth": 0,
             "ticks": ""
            },
            "colorscale": [
             [
              0,
              "#0d0887"
             ],
             [
              0.1111111111111111,
              "#46039f"
             ],
             [
              0.2222222222222222,
              "#7201a8"
             ],
             [
              0.3333333333333333,
              "#9c179e"
             ],
             [
              0.4444444444444444,
              "#bd3786"
             ],
             [
              0.5555555555555556,
              "#d8576b"
             ],
             [
              0.6666666666666666,
              "#ed7953"
             ],
             [
              0.7777777777777778,
              "#fb9f3a"
             ],
             [
              0.8888888888888888,
              "#fdca26"
             ],
             [
              1,
              "#f0f921"
             ]
            ],
            "type": "contour"
           }
          ],
          "contourcarpet": [
           {
            "colorbar": {
             "outlinewidth": 0,
             "ticks": ""
            },
            "type": "contourcarpet"
           }
          ],
          "heatmap": [
           {
            "colorbar": {
             "outlinewidth": 0,
             "ticks": ""
            },
            "colorscale": [
             [
              0,
              "#0d0887"
             ],
             [
              0.1111111111111111,
              "#46039f"
             ],
             [
              0.2222222222222222,
              "#7201a8"
             ],
             [
              0.3333333333333333,
              "#9c179e"
             ],
             [
              0.4444444444444444,
              "#bd3786"
             ],
             [
              0.5555555555555556,
              "#d8576b"
             ],
             [
              0.6666666666666666,
              "#ed7953"
             ],
             [
              0.7777777777777778,
              "#fb9f3a"
             ],
             [
              0.8888888888888888,
              "#fdca26"
             ],
             [
              1,
              "#f0f921"
             ]
            ],
            "type": "heatmap"
           }
          ],
          "heatmapgl": [
           {
            "colorbar": {
             "outlinewidth": 0,
             "ticks": ""
            },
            "colorscale": [
             [
              0,
              "#0d0887"
             ],
             [
              0.1111111111111111,
              "#46039f"
             ],
             [
              0.2222222222222222,
              "#7201a8"
             ],
             [
              0.3333333333333333,
              "#9c179e"
             ],
             [
              0.4444444444444444,
              "#bd3786"
             ],
             [
              0.5555555555555556,
              "#d8576b"
             ],
             [
              0.6666666666666666,
              "#ed7953"
             ],
             [
              0.7777777777777778,
              "#fb9f3a"
             ],
             [
              0.8888888888888888,
              "#fdca26"
             ],
             [
              1,
              "#f0f921"
             ]
            ],
            "type": "heatmapgl"
           }
          ],
          "histogram": [
           {
            "marker": {
             "colorbar": {
              "outlinewidth": 0,
              "ticks": ""
             }
            },
            "type": "histogram"
           }
          ],
          "histogram2d": [
           {
            "colorbar": {
             "outlinewidth": 0,
             "ticks": ""
            },
            "colorscale": [
             [
              0,
              "#0d0887"
             ],
             [
              0.1111111111111111,
              "#46039f"
             ],
             [
              0.2222222222222222,
              "#7201a8"
             ],
             [
              0.3333333333333333,
              "#9c179e"
             ],
             [
              0.4444444444444444,
              "#bd3786"
             ],
             [
              0.5555555555555556,
              "#d8576b"
             ],
             [
              0.6666666666666666,
              "#ed7953"
             ],
             [
              0.7777777777777778,
              "#fb9f3a"
             ],
             [
              0.8888888888888888,
              "#fdca26"
             ],
             [
              1,
              "#f0f921"
             ]
            ],
            "type": "histogram2d"
           }
          ],
          "histogram2dcontour": [
           {
            "colorbar": {
             "outlinewidth": 0,
             "ticks": ""
            },
            "colorscale": [
             [
              0,
              "#0d0887"
             ],
             [
              0.1111111111111111,
              "#46039f"
             ],
             [
              0.2222222222222222,
              "#7201a8"
             ],
             [
              0.3333333333333333,
              "#9c179e"
             ],
             [
              0.4444444444444444,
              "#bd3786"
             ],
             [
              0.5555555555555556,
              "#d8576b"
             ],
             [
              0.6666666666666666,
              "#ed7953"
             ],
             [
              0.7777777777777778,
              "#fb9f3a"
             ],
             [
              0.8888888888888888,
              "#fdca26"
             ],
             [
              1,
              "#f0f921"
             ]
            ],
            "type": "histogram2dcontour"
           }
          ],
          "mesh3d": [
           {
            "colorbar": {
             "outlinewidth": 0,
             "ticks": ""
            },
            "type": "mesh3d"
           }
          ],
          "parcoords": [
           {
            "line": {
             "colorbar": {
              "outlinewidth": 0,
              "ticks": ""
             }
            },
            "type": "parcoords"
           }
          ],
          "pie": [
           {
            "automargin": true,
            "type": "pie"
           }
          ],
          "scatter": [
           {
            "marker": {
             "colorbar": {
              "outlinewidth": 0,
              "ticks": ""
             }
            },
            "type": "scatter"
           }
          ],
          "scatter3d": [
           {
            "line": {
             "colorbar": {
              "outlinewidth": 0,
              "ticks": ""
             }
            },
            "marker": {
             "colorbar": {
              "outlinewidth": 0,
              "ticks": ""
             }
            },
            "type": "scatter3d"
           }
          ],
          "scattercarpet": [
           {
            "marker": {
             "colorbar": {
              "outlinewidth": 0,
              "ticks": ""
             }
            },
            "type": "scattercarpet"
           }
          ],
          "scattergeo": [
           {
            "marker": {
             "colorbar": {
              "outlinewidth": 0,
              "ticks": ""
             }
            },
            "type": "scattergeo"
           }
          ],
          "scattergl": [
           {
            "marker": {
             "colorbar": {
              "outlinewidth": 0,
              "ticks": ""
             }
            },
            "type": "scattergl"
           }
          ],
          "scattermapbox": [
           {
            "marker": {
             "colorbar": {
              "outlinewidth": 0,
              "ticks": ""
             }
            },
            "type": "scattermapbox"
           }
          ],
          "scatterpolar": [
           {
            "marker": {
             "colorbar": {
              "outlinewidth": 0,
              "ticks": ""
             }
            },
            "type": "scatterpolar"
           }
          ],
          "scatterpolargl": [
           {
            "marker": {
             "colorbar": {
              "outlinewidth": 0,
              "ticks": ""
             }
            },
            "type": "scatterpolargl"
           }
          ],
          "scatterternary": [
           {
            "marker": {
             "colorbar": {
              "outlinewidth": 0,
              "ticks": ""
             }
            },
            "type": "scatterternary"
           }
          ],
          "surface": [
           {
            "colorbar": {
             "outlinewidth": 0,
             "ticks": ""
            },
            "colorscale": [
             [
              0,
              "#0d0887"
             ],
             [
              0.1111111111111111,
              "#46039f"
             ],
             [
              0.2222222222222222,
              "#7201a8"
             ],
             [
              0.3333333333333333,
              "#9c179e"
             ],
             [
              0.4444444444444444,
              "#bd3786"
             ],
             [
              0.5555555555555556,
              "#d8576b"
             ],
             [
              0.6666666666666666,
              "#ed7953"
             ],
             [
              0.7777777777777778,
              "#fb9f3a"
             ],
             [
              0.8888888888888888,
              "#fdca26"
             ],
             [
              1,
              "#f0f921"
             ]
            ],
            "type": "surface"
           }
          ],
          "table": [
           {
            "cells": {
             "fill": {
              "color": "#EBF0F8"
             },
             "line": {
              "color": "white"
             }
            },
            "header": {
             "fill": {
              "color": "#C8D4E3"
             },
             "line": {
              "color": "white"
             }
            },
            "type": "table"
           }
          ]
         },
         "layout": {
          "annotationdefaults": {
           "arrowcolor": "#2a3f5f",
           "arrowhead": 0,
           "arrowwidth": 1
          },
          "coloraxis": {
           "colorbar": {
            "outlinewidth": 0,
            "ticks": ""
           }
          },
          "colorscale": {
           "diverging": [
            [
             0,
             "#8e0152"
            ],
            [
             0.1,
             "#c51b7d"
            ],
            [
             0.2,
             "#de77ae"
            ],
            [
             0.3,
             "#f1b6da"
            ],
            [
             0.4,
             "#fde0ef"
            ],
            [
             0.5,
             "#f7f7f7"
            ],
            [
             0.6,
             "#e6f5d0"
            ],
            [
             0.7,
             "#b8e186"
            ],
            [
             0.8,
             "#7fbc41"
            ],
            [
             0.9,
             "#4d9221"
            ],
            [
             1,
             "#276419"
            ]
           ],
           "sequential": [
            [
             0,
             "#0d0887"
            ],
            [
             0.1111111111111111,
             "#46039f"
            ],
            [
             0.2222222222222222,
             "#7201a8"
            ],
            [
             0.3333333333333333,
             "#9c179e"
            ],
            [
             0.4444444444444444,
             "#bd3786"
            ],
            [
             0.5555555555555556,
             "#d8576b"
            ],
            [
             0.6666666666666666,
             "#ed7953"
            ],
            [
             0.7777777777777778,
             "#fb9f3a"
            ],
            [
             0.8888888888888888,
             "#fdca26"
            ],
            [
             1,
             "#f0f921"
            ]
           ],
           "sequentialminus": [
            [
             0,
             "#0d0887"
            ],
            [
             0.1111111111111111,
             "#46039f"
            ],
            [
             0.2222222222222222,
             "#7201a8"
            ],
            [
             0.3333333333333333,
             "#9c179e"
            ],
            [
             0.4444444444444444,
             "#bd3786"
            ],
            [
             0.5555555555555556,
             "#d8576b"
            ],
            [
             0.6666666666666666,
             "#ed7953"
            ],
            [
             0.7777777777777778,
             "#fb9f3a"
            ],
            [
             0.8888888888888888,
             "#fdca26"
            ],
            [
             1,
             "#f0f921"
            ]
           ]
          },
          "colorway": [
           "#636efa",
           "#EF553B",
           "#00cc96",
           "#ab63fa",
           "#FFA15A",
           "#19d3f3",
           "#FF6692",
           "#B6E880",
           "#FF97FF",
           "#FECB52"
          ],
          "font": {
           "color": "#2a3f5f"
          },
          "geo": {
           "bgcolor": "white",
           "lakecolor": "white",
           "landcolor": "#E5ECF6",
           "showlakes": true,
           "showland": true,
           "subunitcolor": "white"
          },
          "hoverlabel": {
           "align": "left"
          },
          "hovermode": "closest",
          "mapbox": {
           "style": "light"
          },
          "paper_bgcolor": "white",
          "plot_bgcolor": "#E5ECF6",
          "polar": {
           "angularaxis": {
            "gridcolor": "white",
            "linecolor": "white",
            "ticks": ""
           },
           "bgcolor": "#E5ECF6",
           "radialaxis": {
            "gridcolor": "white",
            "linecolor": "white",
            "ticks": ""
           }
          },
          "scene": {
           "xaxis": {
            "backgroundcolor": "#E5ECF6",
            "gridcolor": "white",
            "gridwidth": 2,
            "linecolor": "white",
            "showbackground": true,
            "ticks": "",
            "zerolinecolor": "white"
           },
           "yaxis": {
            "backgroundcolor": "#E5ECF6",
            "gridcolor": "white",
            "gridwidth": 2,
            "linecolor": "white",
            "showbackground": true,
            "ticks": "",
            "zerolinecolor": "white"
           },
           "zaxis": {
            "backgroundcolor": "#E5ECF6",
            "gridcolor": "white",
            "gridwidth": 2,
            "linecolor": "white",
            "showbackground": true,
            "ticks": "",
            "zerolinecolor": "white"
           }
          },
          "shapedefaults": {
           "line": {
            "color": "#2a3f5f"
           }
          },
          "ternary": {
           "aaxis": {
            "gridcolor": "white",
            "linecolor": "white",
            "ticks": ""
           },
           "baxis": {
            "gridcolor": "white",
            "linecolor": "white",
            "ticks": ""
           },
           "bgcolor": "#E5ECF6",
           "caxis": {
            "gridcolor": "white",
            "linecolor": "white",
            "ticks": ""
           }
          },
          "title": {
           "x": 0.05
          },
          "xaxis": {
           "automargin": true,
           "gridcolor": "white",
           "linecolor": "white",
           "ticks": "",
           "title": {
            "standoff": 15
           },
           "zerolinecolor": "white",
           "zerolinewidth": 2
          },
          "yaxis": {
           "automargin": true,
           "gridcolor": "white",
           "linecolor": "white",
           "ticks": "",
           "title": {
            "standoff": 15
           },
           "zerolinecolor": "white",
           "zerolinewidth": 2
          }
         }
        },
        "width": 500,
        "xaxis": {
         "dtick": 1,
         "gridwidth": 2,
         "showticklabels": false,
         "tick0": -0.5,
         "ticks": "",
         "zeroline": false
        },
        "yaxis": {
         "autorange": "reversed",
         "dtick": 1,
         "gridwidth": 2,
         "showticklabels": false,
         "tick0": 0.5,
         "ticks": "",
         "zeroline": false
        }
       }
      },
      "text/html": [
       "<div>                            <div id=\"0436988d-e453-42d0-9939-c1ddc2767d56\" class=\"plotly-graph-div\" style=\"height:200px; width:500px;\"></div>            <script type=\"text/javascript\">                require([\"plotly\"], function(Plotly) {                    window.PLOTLYENV=window.PLOTLYENV || {};                                    if (document.getElementById(\"0436988d-e453-42d0-9939-c1ddc2767d56\")) {                    Plotly.newPlot(                        \"0436988d-e453-42d0-9939-c1ddc2767d56\",                        [{\"colorscale\": [[0, \"#00083e\"], [0.5, \"#ededee\"], [1, \"#ffffff\"]], \"hoverinfo\": \"none\", \"opacity\": 0.75, \"showscale\": false, \"type\": \"heatmap\", \"z\": [[0, 0], [0, 0.5], [0, 1], [0, 0.5], [0, 1], [0, 0.5], [0, 1]]}],                        {\"annotations\": [{\"align\": \"left\", \"font\": {\"color\": \"#ffffff\"}, \"showarrow\": false, \"text\": \"<b></b>\", \"x\": -0.45, \"xanchor\": \"left\", \"xref\": \"x\", \"y\": 0, \"yref\": \"y\"}, {\"align\": \"left\", \"font\": {\"color\": \"#ffffff\"}, \"showarrow\": false, \"text\": \"<b>Draft Kings Score</b>\", \"x\": 0.55, \"xanchor\": \"left\", \"xref\": \"x\", \"y\": 0, \"yref\": \"y\"}, {\"align\": \"left\", \"font\": {\"color\": \"#ffffff\"}, \"showarrow\": false, \"text\": \"<b>Road Team</b>\", \"x\": -0.45, \"xanchor\": \"left\", \"xref\": \"x\", \"y\": 1, \"yref\": \"y\"}, {\"align\": \"left\", \"font\": {\"color\": \"#000000\"}, \"showarrow\": false, \"text\": \"-0.020803102519125764\", \"x\": 0.55, \"xanchor\": \"left\", \"xref\": \"x\", \"y\": 1, \"yref\": \"y\"}, {\"align\": \"left\", \"font\": {\"color\": \"#ffffff\"}, \"showarrow\": false, \"text\": \"<b>Days Rest</b>\", \"x\": -0.45, \"xanchor\": \"left\", \"xref\": \"x\", \"y\": 2, \"yref\": \"y\"}, {\"align\": \"left\", \"font\": {\"color\": \"#000000\"}, \"showarrow\": false, \"text\": \"-0.02172253111340591\", \"x\": 0.55, \"xanchor\": \"left\", \"xref\": \"x\", \"y\": 2, \"yref\": \"y\"}, {\"align\": \"left\", \"font\": {\"color\": \"#ffffff\"}, \"showarrow\": false, \"text\": \"<b>3 Game Trend</b>\", \"x\": -0.45, \"xanchor\": \"left\", \"xref\": \"x\", \"y\": 3, \"yref\": \"y\"}, {\"align\": \"left\", \"font\": {\"color\": \"#000000\"}, \"showarrow\": false, \"text\": \"0.7126103304304383\", \"x\": 0.55, \"xanchor\": \"left\", \"xref\": \"x\", \"y\": 3, \"yref\": \"y\"}, {\"align\": \"left\", \"font\": {\"color\": \"#ffffff\"}, \"showarrow\": false, \"text\": \"<b>7 Game Trend</b>\", \"x\": -0.45, \"xanchor\": \"left\", \"xref\": \"x\", \"y\": 4, \"yref\": \"y\"}, {\"align\": \"left\", \"font\": {\"color\": \"#000000\"}, \"showarrow\": false, \"text\": \"0.7294780652948895\", \"x\": 0.55, \"xanchor\": \"left\", \"xref\": \"x\", \"y\": 4, \"yref\": \"y\"}, {\"align\": \"left\", \"font\": {\"color\": \"#ffffff\"}, \"showarrow\": false, \"text\": \"<b>Season Average</b>\", \"x\": -0.45, \"xanchor\": \"left\", \"xref\": \"x\", \"y\": 5, \"yref\": \"y\"}, {\"align\": \"left\", \"font\": {\"color\": \"#000000\"}, \"showarrow\": false, \"text\": \"0.7259063796641348\", \"x\": 0.55, \"xanchor\": \"left\", \"xref\": \"x\", \"y\": 5, \"yref\": \"y\"}, {\"align\": \"left\", \"font\": {\"color\": \"#ffffff\"}, \"showarrow\": false, \"text\": \"<b>Average v. Opponent</b>\", \"x\": -0.45, \"xanchor\": \"left\", \"xref\": \"x\", \"y\": 6, \"yref\": \"y\"}, {\"align\": \"left\", \"font\": {\"color\": \"#000000\"}, \"showarrow\": false, \"text\": \"0.7861655055982963\", \"x\": 0.55, \"xanchor\": \"left\", \"xref\": \"x\", \"y\": 6, \"yref\": \"y\"}], \"autosize\": false, \"height\": 200, \"margin\": {\"b\": 0, \"l\": 0, \"r\": 0, \"t\": 0}, \"template\": {\"data\": {\"bar\": [{\"error_x\": {\"color\": \"#2a3f5f\"}, \"error_y\": {\"color\": \"#2a3f5f\"}, \"marker\": {\"line\": {\"color\": \"#E5ECF6\", \"width\": 0.5}}, \"type\": \"bar\"}], \"barpolar\": [{\"marker\": {\"line\": {\"color\": \"#E5ECF6\", \"width\": 0.5}}, \"type\": \"barpolar\"}], \"carpet\": [{\"aaxis\": {\"endlinecolor\": \"#2a3f5f\", \"gridcolor\": \"white\", \"linecolor\": \"white\", \"minorgridcolor\": \"white\", \"startlinecolor\": \"#2a3f5f\"}, \"baxis\": {\"endlinecolor\": \"#2a3f5f\", \"gridcolor\": \"white\", \"linecolor\": \"white\", \"minorgridcolor\": \"white\", \"startlinecolor\": \"#2a3f5f\"}, \"type\": \"carpet\"}], \"choropleth\": [{\"colorbar\": {\"outlinewidth\": 0, \"ticks\": \"\"}, \"type\": \"choropleth\"}], \"contour\": [{\"colorbar\": {\"outlinewidth\": 0, \"ticks\": \"\"}, \"colorscale\": [[0.0, \"#0d0887\"], [0.1111111111111111, \"#46039f\"], [0.2222222222222222, \"#7201a8\"], [0.3333333333333333, \"#9c179e\"], [0.4444444444444444, \"#bd3786\"], [0.5555555555555556, \"#d8576b\"], [0.6666666666666666, \"#ed7953\"], [0.7777777777777778, \"#fb9f3a\"], [0.8888888888888888, \"#fdca26\"], [1.0, \"#f0f921\"]], \"type\": \"contour\"}], \"contourcarpet\": [{\"colorbar\": {\"outlinewidth\": 0, \"ticks\": \"\"}, \"type\": \"contourcarpet\"}], \"heatmap\": [{\"colorbar\": {\"outlinewidth\": 0, \"ticks\": \"\"}, \"colorscale\": [[0.0, \"#0d0887\"], [0.1111111111111111, \"#46039f\"], [0.2222222222222222, \"#7201a8\"], [0.3333333333333333, \"#9c179e\"], [0.4444444444444444, \"#bd3786\"], [0.5555555555555556, \"#d8576b\"], [0.6666666666666666, \"#ed7953\"], [0.7777777777777778, \"#fb9f3a\"], [0.8888888888888888, \"#fdca26\"], [1.0, \"#f0f921\"]], \"type\": \"heatmap\"}], \"heatmapgl\": [{\"colorbar\": {\"outlinewidth\": 0, \"ticks\": \"\"}, \"colorscale\": [[0.0, \"#0d0887\"], [0.1111111111111111, \"#46039f\"], [0.2222222222222222, \"#7201a8\"], [0.3333333333333333, \"#9c179e\"], [0.4444444444444444, \"#bd3786\"], [0.5555555555555556, \"#d8576b\"], [0.6666666666666666, \"#ed7953\"], [0.7777777777777778, \"#fb9f3a\"], [0.8888888888888888, \"#fdca26\"], [1.0, \"#f0f921\"]], \"type\": \"heatmapgl\"}], \"histogram\": [{\"marker\": {\"colorbar\": {\"outlinewidth\": 0, \"ticks\": \"\"}}, \"type\": \"histogram\"}], \"histogram2d\": [{\"colorbar\": {\"outlinewidth\": 0, \"ticks\": \"\"}, \"colorscale\": [[0.0, \"#0d0887\"], [0.1111111111111111, \"#46039f\"], [0.2222222222222222, \"#7201a8\"], [0.3333333333333333, \"#9c179e\"], [0.4444444444444444, \"#bd3786\"], [0.5555555555555556, \"#d8576b\"], [0.6666666666666666, \"#ed7953\"], [0.7777777777777778, \"#fb9f3a\"], [0.8888888888888888, \"#fdca26\"], [1.0, \"#f0f921\"]], \"type\": \"histogram2d\"}], \"histogram2dcontour\": [{\"colorbar\": {\"outlinewidth\": 0, \"ticks\": \"\"}, \"colorscale\": [[0.0, \"#0d0887\"], [0.1111111111111111, \"#46039f\"], [0.2222222222222222, \"#7201a8\"], [0.3333333333333333, \"#9c179e\"], [0.4444444444444444, \"#bd3786\"], [0.5555555555555556, \"#d8576b\"], [0.6666666666666666, \"#ed7953\"], [0.7777777777777778, \"#fb9f3a\"], [0.8888888888888888, \"#fdca26\"], [1.0, \"#f0f921\"]], \"type\": \"histogram2dcontour\"}], \"mesh3d\": [{\"colorbar\": {\"outlinewidth\": 0, \"ticks\": \"\"}, \"type\": \"mesh3d\"}], \"parcoords\": [{\"line\": {\"colorbar\": {\"outlinewidth\": 0, \"ticks\": \"\"}}, \"type\": \"parcoords\"}], \"pie\": [{\"automargin\": true, \"type\": \"pie\"}], \"scatter\": [{\"marker\": {\"colorbar\": {\"outlinewidth\": 0, \"ticks\": \"\"}}, \"type\": \"scatter\"}], \"scatter3d\": [{\"line\": {\"colorbar\": {\"outlinewidth\": 0, \"ticks\": \"\"}}, \"marker\": {\"colorbar\": {\"outlinewidth\": 0, \"ticks\": \"\"}}, \"type\": \"scatter3d\"}], \"scattercarpet\": [{\"marker\": {\"colorbar\": {\"outlinewidth\": 0, \"ticks\": \"\"}}, \"type\": \"scattercarpet\"}], \"scattergeo\": [{\"marker\": {\"colorbar\": {\"outlinewidth\": 0, \"ticks\": \"\"}}, \"type\": \"scattergeo\"}], \"scattergl\": [{\"marker\": {\"colorbar\": {\"outlinewidth\": 0, \"ticks\": \"\"}}, \"type\": \"scattergl\"}], \"scattermapbox\": [{\"marker\": {\"colorbar\": {\"outlinewidth\": 0, \"ticks\": \"\"}}, \"type\": \"scattermapbox\"}], \"scatterpolar\": [{\"marker\": {\"colorbar\": {\"outlinewidth\": 0, \"ticks\": \"\"}}, \"type\": \"scatterpolar\"}], \"scatterpolargl\": [{\"marker\": {\"colorbar\": {\"outlinewidth\": 0, \"ticks\": \"\"}}, \"type\": \"scatterpolargl\"}], \"scatterternary\": [{\"marker\": {\"colorbar\": {\"outlinewidth\": 0, \"ticks\": \"\"}}, \"type\": \"scatterternary\"}], \"surface\": [{\"colorbar\": {\"outlinewidth\": 0, \"ticks\": \"\"}, \"colorscale\": [[0.0, \"#0d0887\"], [0.1111111111111111, \"#46039f\"], [0.2222222222222222, \"#7201a8\"], [0.3333333333333333, \"#9c179e\"], [0.4444444444444444, \"#bd3786\"], [0.5555555555555556, \"#d8576b\"], [0.6666666666666666, \"#ed7953\"], [0.7777777777777778, \"#fb9f3a\"], [0.8888888888888888, \"#fdca26\"], [1.0, \"#f0f921\"]], \"type\": \"surface\"}], \"table\": [{\"cells\": {\"fill\": {\"color\": \"#EBF0F8\"}, \"line\": {\"color\": \"white\"}}, \"header\": {\"fill\": {\"color\": \"#C8D4E3\"}, \"line\": {\"color\": \"white\"}}, \"type\": \"table\"}]}, \"layout\": {\"annotationdefaults\": {\"arrowcolor\": \"#2a3f5f\", \"arrowhead\": 0, \"arrowwidth\": 1}, \"coloraxis\": {\"colorbar\": {\"outlinewidth\": 0, \"ticks\": \"\"}}, \"colorscale\": {\"diverging\": [[0, \"#8e0152\"], [0.1, \"#c51b7d\"], [0.2, \"#de77ae\"], [0.3, \"#f1b6da\"], [0.4, \"#fde0ef\"], [0.5, \"#f7f7f7\"], [0.6, \"#e6f5d0\"], [0.7, \"#b8e186\"], [0.8, \"#7fbc41\"], [0.9, \"#4d9221\"], [1, \"#276419\"]], \"sequential\": [[0.0, \"#0d0887\"], [0.1111111111111111, \"#46039f\"], [0.2222222222222222, \"#7201a8\"], [0.3333333333333333, \"#9c179e\"], [0.4444444444444444, \"#bd3786\"], [0.5555555555555556, \"#d8576b\"], [0.6666666666666666, \"#ed7953\"], [0.7777777777777778, \"#fb9f3a\"], [0.8888888888888888, \"#fdca26\"], [1.0, \"#f0f921\"]], \"sequentialminus\": [[0.0, \"#0d0887\"], [0.1111111111111111, \"#46039f\"], [0.2222222222222222, \"#7201a8\"], [0.3333333333333333, \"#9c179e\"], [0.4444444444444444, \"#bd3786\"], [0.5555555555555556, \"#d8576b\"], [0.6666666666666666, \"#ed7953\"], [0.7777777777777778, \"#fb9f3a\"], [0.8888888888888888, \"#fdca26\"], [1.0, \"#f0f921\"]]}, \"colorway\": [\"#636efa\", \"#EF553B\", \"#00cc96\", \"#ab63fa\", \"#FFA15A\", \"#19d3f3\", \"#FF6692\", \"#B6E880\", \"#FF97FF\", \"#FECB52\"], \"font\": {\"color\": \"#2a3f5f\"}, \"geo\": {\"bgcolor\": \"white\", \"lakecolor\": \"white\", \"landcolor\": \"#E5ECF6\", \"showlakes\": true, \"showland\": true, \"subunitcolor\": \"white\"}, \"hoverlabel\": {\"align\": \"left\"}, \"hovermode\": \"closest\", \"mapbox\": {\"style\": \"light\"}, \"paper_bgcolor\": \"white\", \"plot_bgcolor\": \"#E5ECF6\", \"polar\": {\"angularaxis\": {\"gridcolor\": \"white\", \"linecolor\": \"white\", \"ticks\": \"\"}, \"bgcolor\": \"#E5ECF6\", \"radialaxis\": {\"gridcolor\": \"white\", \"linecolor\": \"white\", \"ticks\": \"\"}}, \"scene\": {\"xaxis\": {\"backgroundcolor\": \"#E5ECF6\", \"gridcolor\": \"white\", \"gridwidth\": 2, \"linecolor\": \"white\", \"showbackground\": true, \"ticks\": \"\", \"zerolinecolor\": \"white\"}, \"yaxis\": {\"backgroundcolor\": \"#E5ECF6\", \"gridcolor\": \"white\", \"gridwidth\": 2, \"linecolor\": \"white\", \"showbackground\": true, \"ticks\": \"\", \"zerolinecolor\": \"white\"}, \"zaxis\": {\"backgroundcolor\": \"#E5ECF6\", \"gridcolor\": \"white\", \"gridwidth\": 2, \"linecolor\": \"white\", \"showbackground\": true, \"ticks\": \"\", \"zerolinecolor\": \"white\"}}, \"shapedefaults\": {\"line\": {\"color\": \"#2a3f5f\"}}, \"ternary\": {\"aaxis\": {\"gridcolor\": \"white\", \"linecolor\": \"white\", \"ticks\": \"\"}, \"baxis\": {\"gridcolor\": \"white\", \"linecolor\": \"white\", \"ticks\": \"\"}, \"bgcolor\": \"#E5ECF6\", \"caxis\": {\"gridcolor\": \"white\", \"linecolor\": \"white\", \"ticks\": \"\"}}, \"title\": {\"x\": 0.05}, \"xaxis\": {\"automargin\": true, \"gridcolor\": \"white\", \"linecolor\": \"white\", \"ticks\": \"\", \"title\": {\"standoff\": 15}, \"zerolinecolor\": \"white\", \"zerolinewidth\": 2}, \"yaxis\": {\"automargin\": true, \"gridcolor\": \"white\", \"linecolor\": \"white\", \"ticks\": \"\", \"title\": {\"standoff\": 15}, \"zerolinecolor\": \"white\", \"zerolinewidth\": 2}}}, \"width\": 500, \"xaxis\": {\"dtick\": 1, \"gridwidth\": 2, \"showticklabels\": false, \"tick0\": -0.5, \"ticks\": \"\", \"zeroline\": false}, \"yaxis\": {\"autorange\": \"reversed\", \"dtick\": 1, \"gridwidth\": 2, \"showticklabels\": false, \"tick0\": 0.5, \"ticks\": \"\", \"zeroline\": false}},                        {\"responsive\": true}                    ).then(function(){\n",
       "                            \n",
       "var gd = document.getElementById('0436988d-e453-42d0-9939-c1ddc2767d56');\n",
       "var x = new MutationObserver(function (mutations, observer) {{\n",
       "        var display = window.getComputedStyle(gd).display;\n",
       "        if (!display || display === 'none') {{\n",
       "            console.log([gd, 'removed!']);\n",
       "            Plotly.purge(gd);\n",
       "            observer.disconnect();\n",
       "        }}\n",
       "}});\n",
       "\n",
       "// Listen for the removal of the full notebook cells\n",
       "var notebookContainer = gd.closest('#notebook-container');\n",
       "if (notebookContainer) {{\n",
       "    x.observe(notebookContainer, {childList: true});\n",
       "}}\n",
       "\n",
       "// Listen for the clearing of the current output cell\n",
       "var outputEl = gd.closest('.output');\n",
       "if (outputEl) {{\n",
       "    x.observe(outputEl, {childList: true});\n",
       "}}\n",
       "\n",
       "                        })                };                });            </script>        </div>"
      ]
     },
     "metadata": {},
     "output_type": "display_data"
    }
   ],
   "source": [
    "corrs = pd.DataFrame(nba_stats.corr()['dk_score'][features].values,columns=['Draft Kings Score'],index=['Road Team','Days Rest',\n",
    "                                                                                  '3 Game Trend','7 Game Trend',\n",
    "                                                                                  'Season Average','Average v. Opponent'])\n",
    "\n",
    "import plotly.figure_factory as ff\n",
    "fig = ff.create_table(corrs,index=True)\n",
    "fig.update_layout(autosize=False,width=500,height=200,)\n",
    "fig.write_image(\"table_plotly.png\", scale=2)\n",
    "fig.show()"
   ]
  },
  {
   "cell_type": "code",
   "execution_count": 52,
   "metadata": {},
   "outputs": [],
   "source": [
    "dk = nba_stats[['dk_score','Player','Date','Team','Away','Opp','days_rest','dd','td',\n",
    "               'dk_score_trend3','dk_score_trend7','dk_mean','dk_score_opp']]\n",
    "\n",
    "fd = nba_stats[['fd_score','Player','Date','Team','Away','Opp','days_rest',\n",
    "               'fd_score_trend3','fd_score_trend7','fd_mean','fd_score_opp']]"
   ]
  },
  {
   "cell_type": "code",
   "execution_count": 53,
   "metadata": {},
   "outputs": [
    {
     "name": "stdout",
     "output_type": "stream",
     "text": [
      "R squared:  0.5163180949098314\n",
      "RMSE:  10.279538794493973\n"
     ]
    }
   ],
   "source": [
    "from sklearn.linear_model import LinearRegression\n",
    "from sklearn.metrics import r2_score, mean_squared_error\n",
    "\n",
    "train = dk[dk.Date.dt.year.isin([2017,2018])]\n",
    "test = dk[dk.Date.dt.year==2019]\n",
    "\n",
    "x_train = train.dk_score_trend3.values.reshape(-1,1)\n",
    "x_test = test.dk_score_trend3.values.reshape(-1,1)\n",
    "y_train = train.dk_score\n",
    "y_test = test.dk_score\n",
    "\n",
    "lr = LinearRegression().fit(x_train,y_train)\n",
    "pred = lr.predict(x_test)\n",
    "def get_metrics(pred):\n",
    "    print('R squared: ',r2_score(y_test,pred))\n",
    "    print('RMSE: ',np.sqrt(mean_squared_error(y_test,pred)))\n",
    "    \n",
    "get_metrics(pred)"
   ]
  },
  {
   "cell_type": "code",
   "execution_count": 54,
   "metadata": {},
   "outputs": [
    {
     "name": "stdout",
     "output_type": "stream",
     "text": [
      "R squared:  0.6618345882302781\n",
      "RMSE:  8.595245827466565\n"
     ]
    }
   ],
   "source": [
    "X_train_all = train[features]\n",
    "X_test_all = test[features]\n",
    "\n",
    "lr_all = LinearRegression().fit(X_train_all,y_train)\n",
    "pred_all = lr_all.predict(X_test_all)\n",
    "\n",
    "get_metrics(pred_all)"
   ]
  },
  {
   "cell_type": "code",
   "execution_count": 55,
   "metadata": {},
   "outputs": [
    {
     "data": {
      "text/plain": [
       "14.285683948081356"
      ]
     },
     "execution_count": 55,
     "metadata": {},
     "output_type": "execute_result"
    }
   ],
   "source": [
    "dk.dk_score.describe()['std']"
   ]
  },
  {
   "cell_type": "code",
   "execution_count": 56,
   "metadata": {},
   "outputs": [
    {
     "data": {
      "text/plain": [
       "<matplotlib.collections.PathCollection at 0x7fbf1cfe0f40>"
      ]
     },
     "execution_count": 56,
     "metadata": {},
     "output_type": "execute_result"
    },
    {
     "data": {
      "image/png": "[encoded data removed]",
      "text/plain": [
       "<Figure size 432x288 with 1 Axes>"
      ]
     },
     "metadata": {},
     "output_type": "display_data"
    }
   ],
   "source": [
    "plt.scatter(y_test,pred_all)"
   ]
  },
  {
   "cell_type": "code",
   "execution_count": 57,
   "metadata": {},
   "outputs": [
    {
     "data": {
      "image/png": "[encoded data removed]",
      "text/plain": [
       "<Figure size 432x288 with 1 Axes>"
      ]
     },
     "metadata": {},
     "output_type": "display_data"
    }
   ],
   "source": [
    "plt.hist(pred_all-y_test,bins=30);"
   ]
  },
  {
   "cell_type": "code",
   "execution_count": 58,
   "metadata": {},
   "outputs": [
    {
     "data": {
      "image/png": "[encoded data removed]",
      "text/plain": [
       "<Figure size 432x288 with 1 Axes>"
      ]
     },
     "metadata": {},
     "output_type": "display_data"
    }
   ],
   "source": [
    "plt.hist(lebron.dk_score);"
   ]
  },
  {
   "cell_type": "code",
   "execution_count": 59,
   "metadata": {},
   "outputs": [],
   "source": [
    "from sklearn.linear_model import LassoCV"
   ]
  },
  {
   "cell_type": "code",
   "execution_count": 60,
   "metadata": {},
   "outputs": [
    {
     "data": {
      "text/plain": [
       "array([36.77967744, 38.00496766, 34.68163454, ..., 12.7187178 ,\n",
       "        8.18954992, -1.09250706])"
      ]
     },
     "execution_count": 60,
     "metadata": {},
     "output_type": "execute_result"
    }
   ],
   "source": [
    "lasso = LassoCV().fit(X_train_all,y_train)\n",
    "lasso_pred = lasso.predict(X_test_all)\n",
    "lasso_pred"
   ]
  },
  {
   "cell_type": "code",
   "execution_count": 61,
   "metadata": {},
   "outputs": [
    {
     "name": "stdout",
     "output_type": "stream",
     "text": [
      "R squared:  0.6612334918364267\n",
      "RMSE:  8.602881554253521\n"
     ]
    }
   ],
   "source": [
    "get_metrics(lasso_pred)"
   ]
  },
  {
   "cell_type": "code",
   "execution_count": 62,
   "metadata": {},
   "outputs": [
    {
     "name": "stdout",
     "output_type": "stream",
     "text": [
      "R squared:  0.6619481925189524\n",
      "RMSE:  8.59380195003788\n"
     ]
    }
   ],
   "source": [
    "from sklearn.preprocessing import PolynomialFeatures\n",
    "poly = PolynomialFeatures(degree=2,interaction_only=True)\n",
    "\n",
    "X_train_poly = poly.fit_transform(X_train_all)\n",
    "X_test_poly = poly.fit_transform(X_test_all)\n",
    "\n",
    "lr_poly = LinearRegression().fit(X_train_poly,y_train)\n",
    "pred_poly = lr_poly.predict(X_test_poly)\n",
    "\n",
    "get_metrics(pred_poly)"
   ]
  },
  {
   "cell_type": "code",
   "execution_count": null,
   "metadata": {},
   "outputs": [],
   "source": []
  }
 ],
 "metadata": {
  "kernelspec": {
   "display_name": "Python 3",
   "language": "python",
   "name": "python3"
  },
  "language_info": {
   "codemirror_mode": {
    "name": "ipython",
    "version": 3
   },
   "file_extension": ".py",
   "mimetype": "text/x-python",
   "name": "python",
   "nbconvert_exporter": "python",
   "pygments_lexer": "ipython3",
   "version": "3.8.2"
  }
 },
 "nbformat": 4,
 "nbformat_minor": 4
}
